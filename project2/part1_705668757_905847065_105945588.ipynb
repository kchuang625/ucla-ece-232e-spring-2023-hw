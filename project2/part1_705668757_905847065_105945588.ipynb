{
 "cells": [
  {
   "cell_type": "markdown",
   "id": "36d55ca1",
   "metadata": {},
   "source": [
    "## 1. Facebook network\n",
    "***\n",
    "In this project, we will be using the dataset given below:\n",
    "\n",
    "http://snap.stanford.edu/data/egonets-Facebook.html\n",
    "\n",
    "The Facebook network can be created from the edgelist file (facebook combined.txt)"
   ]
  },
  {
   "cell_type": "markdown",
   "id": "ecfc41bf",
   "metadata": {},
   "source": [
    "### Packages\n",
    "***"
   ]
  },
  {
   "cell_type": "code",
   "execution_count": 1,
   "id": "ecca72db",
   "metadata": {
    "scrolled": false
   },
   "outputs": [
    {
     "name": "stderr",
     "output_type": "stream",
     "text": [
      "\n",
      "載入套件：‘igraph’\n",
      "\n",
      "\n",
      "下列物件被遮斷自 ‘package:stats’:\n",
      "\n",
      "    decompose, spectrum\n",
      "\n",
      "\n",
      "下列物件被遮斷自 ‘package:base’:\n",
      "\n",
      "    union\n",
      "\n",
      "\n"
     ]
    }
   ],
   "source": [
    "library(igraph)"
   ]
  },
  {
   "cell_type": "markdown",
   "id": "d796c9ec",
   "metadata": {},
   "source": [
    "### 1. Structural properties of the Facebook network\n",
    "***\n",
    "Having created the Facebook network, we will study some of the structural properties of the network. To be specific, we will study\n",
    "+ Connectivity\n",
    "+ Degree distribution"
   ]
  },
  {
   "cell_type": "markdown",
   "id": "bc57632f",
   "metadata": {},
   "source": [
    "### QUESTION 1: A first look at the network:\n",
    "***\n",
    "#### QUESTION 1.1: Report the number of nodes and number of edges of the Facebook network.\n",
    "> Ans:"
   ]
  },
  {
   "cell_type": "code",
   "execution_count": null,
   "id": "284b8482",
   "metadata": {
    "scrolled": true
   },
   "outputs": [],
   "source": []
  },
  {
   "cell_type": "markdown",
   "id": "f0b76c59",
   "metadata": {},
   "source": [
    "#### QUESTION 1.2: Is the Facebook network connected? If not, find the giant connected component (GCC) of the network and report the size of the GCC.\n",
    "> Ans:"
   ]
  },
  {
   "cell_type": "code",
   "execution_count": null,
   "id": "fcd1b01a",
   "metadata": {},
   "outputs": [],
   "source": []
  },
  {
   "cell_type": "markdown",
   "id": "0a62456b",
   "metadata": {},
   "source": [
    "#### QUESTION 2: Find the diameter of the network. If the network is not connected, then find the diameter of the GCC.\n",
    "> Ans: "
   ]
  },
  {
   "cell_type": "code",
   "execution_count": null,
   "id": "58add4cd",
   "metadata": {},
   "outputs": [],
   "source": []
  },
  {
   "cell_type": "markdown",
   "id": "313ea659",
   "metadata": {},
   "source": [
    "#### QUESTION 3: Plot the degree distribution of the facebook network and report the average degree.\n",
    "> Ans: "
   ]
  },
  {
   "cell_type": "code",
   "execution_count": null,
   "id": "47afa511",
   "metadata": {},
   "outputs": [],
   "source": []
  },
  {
   "cell_type": "markdown",
   "id": "66b280a6",
   "metadata": {},
   "source": [
    "#### QUESTION 4: Plot the degree distribution of Question 3 in a log-log scale. Try to fit a line to the plot and estimate the slope of the line.\n",
    "> Ans: "
   ]
  },
  {
   "cell_type": "code",
   "execution_count": null,
   "id": "ac925b29",
   "metadata": {},
   "outputs": [],
   "source": []
  },
  {
   "cell_type": "markdown",
   "id": "f3b58bab",
   "metadata": {},
   "source": [
    "### 2. Personalized network\n",
    "***\n",
    "A personalized network of an user vi is defined as the subgraph induced by vi and it’s neighbors. In this part, we will study some of the structural properties of the personalized network of the user whose graph node ID is 1 (node ID in edgelist is 0). From this point onwards, whenever we are refering to a node ID we mean the graph node ID which is 1 + node ID in edgelist."
   ]
  },
  {
   "cell_type": "markdown",
   "id": "3aeae93b",
   "metadata": {},
   "source": [
    "#### QUESTION 5: Create a personalized network of the user whose ID is 1. How many nodes and edges does this personalized network have?\n",
    "\n",
    "Hint Useful function(s): makeegograph\n",
    "\n",
    "> Ans:"
   ]
  },
  {
   "cell_type": "code",
   "execution_count": null,
   "id": "de617888",
   "metadata": {},
   "outputs": [],
   "source": []
  },
  {
   "cell_type": "markdown",
   "id": "10ab8c20",
   "metadata": {},
   "source": [
    "#### QUESTION 6: What is the diameter of the personalized network? Please state a trivial upper and lower bound for the diameter of the personalized network.\n",
    "> Ans: "
   ]
  },
  {
   "cell_type": "code",
   "execution_count": null,
   "id": "6ef55808",
   "metadata": {},
   "outputs": [],
   "source": []
  },
  {
   "cell_type": "markdown",
   "id": "ab1d3049",
   "metadata": {},
   "source": [
    "#### QUESTION 7: In the context of the personalized network, what is the meaning of the diameter of the personalized network to be equal to the upper bound you derived in Question 6. What is the meaning of the diameter of the personalized network to be equal to the lower bound you derived in Question 6 (assuming there are more than 3 nodes in the personalized network)?\n",
    "> Ans:"
   ]
  },
  {
   "cell_type": "code",
   "execution_count": null,
   "id": "61dee40c",
   "metadata": {},
   "outputs": [],
   "source": []
  },
  {
   "cell_type": "markdown",
   "id": "b9fdd83f",
   "metadata": {},
   "source": [
    "### 3. Core node’s personalized network\n",
    "***\n",
    "A core node is defined as the nodes that have more than 200 neighbors. In this part, we will study various properties of the personalized network of the core nodes."
   ]
  },
  {
   "cell_type": "markdown",
   "id": "98545b1b",
   "metadata": {},
   "source": [
    "#### QUESTION 8: How many core nodes are there in the Facebook network. What is the average degree of the core nodes?"
   ]
  },
  {
   "cell_type": "code",
   "execution_count": null,
   "id": "09a4ddd2",
   "metadata": {},
   "outputs": [],
   "source": []
  },
  {
   "cell_type": "markdown",
   "id": "b4f569cf",
   "metadata": {},
   "source": [
    "### 3.1. Community structure of core node’s personalized network\n",
    "***\n",
    "In this part, we study the community structure of the core node’s personalized network. To be specific, we will study the community structure of the personalized network of the following core nodes:\n",
    "+ Node ID 1\n",
    "+ Node ID 108\n",
    "+ Node ID 349\n",
    "+ Node ID 484\n",
    "+ Node ID 1087"
   ]
  },
  {
   "cell_type": "markdown",
   "id": "e5824847",
   "metadata": {},
   "source": [
    "#### QUESTION 9: For each of the above core node’s personalized network, find the community structure using Fast-Greedy, Edge-Betweenness, and Infomap community detection algorithms. Compare the modularity scores of the algorithms. For visualization purpose, display the community structure of the core node’s personalized networks using colors. Nodes belonging to the same community should have the same color and nodes belonging to different communities should have different color. In this question, you should have 15 plots in total.\n",
    "\n",
    "Hint Useful function(s): clusterfastgreedy , clusteredgebetweenness , clusterinfomap\n",
    "\n",
    "> Ans:"
   ]
  },
  {
   "cell_type": "code",
   "execution_count": null,
   "id": "4da7d971",
   "metadata": {
    "scrolled": true
   },
   "outputs": [],
   "source": []
  },
  {
   "cell_type": "markdown",
   "id": "c92e9698",
   "metadata": {},
   "source": [
    "### 3.2. Community structure with the core node removed\n",
    "***\n",
    "In this part, we will explore the effect on the community structure of a core node’s personalized network when the core node itself is removed from the personalized network."
   ]
  },
  {
   "cell_type": "markdown",
   "id": "d41dc1d1",
   "metadata": {},
   "source": [
    "#### QUESTION 10: For each of the core node’s personalized network (use same core nodes as Question 9, remove the core node from the personalized network and find the community structure of the modified personalized network. Use the same community detection algorithm as Question 9. Compare the modularity score of the community structure of the modified personalized network with the modularity score of the community structure of the personalized network of Question 9. For visualization purpose, display the community structure of the modified personalized network using colors. In this question, you should have 15 plots in total.\n",
    "> Ans:"
   ]
  },
  {
   "cell_type": "code",
   "execution_count": null,
   "id": "b5bf809e",
   "metadata": {
    "scrolled": true
   },
   "outputs": [],
   "source": []
  },
  {
   "cell_type": "markdown",
   "id": "310db22f",
   "metadata": {},
   "source": [
    "### 3.3. Characteristic of nodes in the personalized network\n",
    "***\n",
    "In this part, we will explore characteristics of nodes in the personalized network using two measures. These two measures are stated and defined below:\n",
    "+ **Embeddedness** of a node is defined as the number of mutual friends a node shares with the core node.\n",
    "+ **Dispersion** of a node is defined as the sum of distances between every pair of the mutual friends the node shares with the core node. The distances should be calculated in a modified graph where the node (whose dispersion is being computed) and the core node are removed.\n",
    "For further details on the above characteristics, you can read the paper below:\n",
    "\n",
    "http://arxiv.org/abs/1310.6753"
   ]
  },
  {
   "cell_type": "markdown",
   "id": "a450892f",
   "metadata": {},
   "source": [
    "#### QUESTION 11: Write an expression relating the Embeddedness between the core node and a non-core node to the degree of the non-core node in the personalized network of the core node.\n",
    "> Ans:"
   ]
  },
  {
   "cell_type": "code",
   "execution_count": null,
   "id": "791c3a9d",
   "metadata": {},
   "outputs": [],
   "source": []
  },
  {
   "cell_type": "markdown",
   "id": "24b9c900",
   "metadata": {},
   "source": [
    "#### QUESTION 12: For each of the core node’s personalized network (use the same core nodes as Question 9, plot the distribution histogram of embeddedness and dispersion. In this question, you will have 10 plots.\n",
    "\n",
    "Hint Useful function(s): neighbors , intersection , distances\n",
    "\n",
    "> Ans:"
   ]
  },
  {
   "cell_type": "code",
   "execution_count": null,
   "id": "f3045480",
   "metadata": {
    "scrolled": true
   },
   "outputs": [],
   "source": []
  },
  {
   "cell_type": "markdown",
   "id": "06695c38",
   "metadata": {},
   "source": [
    "#### QUESTION 13: For each of the core node’s personalized network, plot the community structure of the personalized network using colors and highlight the node with maximum dispersion. Also, highlight the edges incident to this node. To detect the community structure, use Fast-Greedy algorithm. In this question, you will have 5 plots.\n",
    "> Ans: "
   ]
  },
  {
   "cell_type": "code",
   "execution_count": null,
   "id": "1d0f6237",
   "metadata": {},
   "outputs": [],
   "source": []
  },
  {
   "cell_type": "markdown",
   "id": "68d32ec2",
   "metadata": {},
   "source": [
    "#### QUESTION 14: Repeat Question 13, but now highlight the node with maximum embeddedness and the node with maximum dispersion embeddedness (excluding the nodes having zero embeddedness if there are any). Also, highlight the edges incident to these nodes. Report the id of those nodes.\n",
    "\n",
    "> Ans:"
   ]
  },
  {
   "cell_type": "code",
   "execution_count": null,
   "id": "4594548f",
   "metadata": {},
   "outputs": [],
   "source": []
  },
  {
   "cell_type": "markdown",
   "id": "097dc580",
   "metadata": {},
   "source": [
    "#### QUESTION 15: Use the plots from Question 13 and 14 to explain the characteristics of a node revealed by each of this measure.\n",
    "> Ans: "
   ]
  },
  {
   "cell_type": "markdown",
   "id": "6afd3066",
   "metadata": {},
   "source": [
    "### 4. Friend recommendation in personalized networks\n",
    "***\n",
    "In many social networks, it is desirable to predict future links between pairs of nodes in the network. In the context of this Facebook network it is equivalent to recommending friends to users. In this part of the project, we will explore some neighborhood-based measures for friend recommendation. The network that we will be using for this part is the personalized network of node with ID 415."
   ]
  },
  {
   "cell_type": "markdown",
   "id": "21b0b69c",
   "metadata": {},
   "source": [
    "### 4.1. Neighborhood based measure\n",
    "***\n",
    "In this project, we will be exploring three different neighborhood-based measures. Before we define these measures, let’s introduce some notation:\n",
    "+ Si is the neighbor set of node i in the network\n",
    "+ Sj is the neighbor set of node j in the network\n",
    "\n",
    "Then, with the above notation we define the three measures below:\n",
    "+ Common neighbor measure between node i and node j is defined as Common Neighbors(i, j) = |Si ∩ Sj|\n",
    "+ Jaccard measure between node i and node j is defined as Jaccard(i, j) = |Si ∩ Sj | / |Si ∪ Sj|\n",
    "+ Adamic-Adar measure between node i and node j is defined as Adamic Adar(i, j) = $\\sum_{k∈S_i∩S_j}1/\\log|S_k|$"
   ]
  },
  {
   "cell_type": "markdown",
   "id": "b3347439",
   "metadata": {},
   "source": [
    "### 4.2. Friend recommendation using neighborhood based measures\n",
    "***\n",
    "We can use the neighborhood based measures defined in the previous section to recommend new friends to users in the network. Suppose we want to recommend t new friends to some user i in the network using Jaccard measure. We follow the steps listed below:\n",
    "\n",
    "1. For each node in the network that is not a neighbor of i, compute the jaccard measure between the node i and the node not in the neighborhood of i Compute Jaccard(i, j) $∀j ∈ S_i^C$\n",
    "\n",
    "2. Then pick t nodes that have the highest Jaccard measure with node i and recommend these nodes as friends to node i"
   ]
  },
  {
   "cell_type": "markdown",
   "id": "8c6e0383",
   "metadata": {},
   "source": [
    "### 4.3. Creating the list of users\n",
    "***\n",
    "Having defined the friend recommendation procedure, we can now apply it to the personalized network of node ID 415. Before we apply the algorithm, we need to create the list of users who we want to recommend new friends to. We create this list by picking all nodes with degree 24. We will denote this list as Nr."
   ]
  },
  {
   "cell_type": "markdown",
   "id": "9a58c140",
   "metadata": {},
   "source": [
    "#### QUESTION 16: What is |Nr|, i.e. the length of the list Nr?\n",
    "> Ans: "
   ]
  },
  {
   "cell_type": "code",
   "execution_count": null,
   "id": "b5334a9d",
   "metadata": {},
   "outputs": [],
   "source": []
  },
  {
   "cell_type": "markdown",
   "id": "9ae74319",
   "metadata": {},
   "source": [
    "### 4.4. Average accuracy of friend recommendation algorithm\n",
    "***\n",
    "In this part, we will apply the 3 different types of friend recommendation algorithms to recommend friends to the users in the list Nr. We will define an average accuracy measure to compare the performances of the friend recommendation algorithms.\n",
    "\n",
    "Suppose we want to compute the average accuracy of the friend recommendation algorithm. This task is completed in two steps:\n",
    "\n",
    "1. Compute the average accuracy for each user in the list Nr\n",
    "\n",
    "2. Compute the average accuracy of the algorithm by averaging across the accuracies of the users in the list Nr\n",
    "\n",
    "Let’s describe the procedure for accomplishing the step 1 of the task. Suppose we want to compute the average accuracy for user i in the list Nr. We can compute it by iterating over the following steps 10 times and then taking the average:\n",
    "\n",
    "1. Remove each edge of node i at random with probability 0.25. In this context, it is equivalent to deleting some friends of node i. Let’s denote the list of friends deleted as Ri\n",
    "\n",
    "2. Use one of the three neighborhood based measures to recommend |Ri| new friends to the user i. Let’s denote the list of friends recommended as Pi\n",
    "\n",
    "3. The accuracy for the user i for this iteration is given by |Pi∩Ri| / |Ri|\n",
    "\n",
    "By iterating over the above steps for 10 times and then taking the average gives us the average accuracy of user i. In this manner, we compute the average accuracy for each user in the list Nr. Once we have computed them, then we can take the mean of the average accuracies of the users in the list Nr. The mean value will be the average accuracy of the friend recommendation algorithm."
   ]
  },
  {
   "cell_type": "markdown",
   "id": "0646222f",
   "metadata": {},
   "source": [
    "#### QUESTION 17: Compute the average accuracy of the friend recommendation algorithm that uses:\n",
    "+ Common Neighbors measure\n",
    "+ Jaccard measure\n",
    "+ Adamic Adar measure\n",
    "#### Based on the average accuracy values, which friend recommendation algorithm is the best?\n",
    "\n",
    "Hint Useful function(s): similarity\n",
    "\n",
    "> Ans:"
   ]
  },
  {
   "cell_type": "code",
   "execution_count": null,
   "id": "bfe3f259",
   "metadata": {},
   "outputs": [],
   "source": []
  }
 ],
 "metadata": {
  "kernelspec": {
   "display_name": "R",
   "language": "R",
   "name": "ir"
  },
  "language_info": {
   "codemirror_mode": "r",
   "file_extension": ".r",
   "mimetype": "text/x-r-source",
   "name": "R",
   "pygments_lexer": "r",
   "version": "4.2.3"
  }
 },
 "nbformat": 4,
 "nbformat_minor": 5
}
