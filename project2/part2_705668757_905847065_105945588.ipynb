{
 "cells": [
  {
   "cell_type": "markdown",
   "id": "36d55ca1",
   "metadata": {},
   "source": [
    "## 2. Google+ network\n",
    "***\n",
    "In this part, we will explore the structure of the Google+ network. The dataset for creating the network can be found in the link below:\n",
    "\n",
    "http://snap.stanford.edu/data/egonets-Gplus.html\n",
    "\n",
    "Create directed personal networks for users who have more than 2 circles. The data required to create such personal networks can be found in the file named **gplus.tar.gz**."
   ]
  },
  {
   "cell_type": "markdown",
   "id": "ecfc41bf",
   "metadata": {},
   "source": [
    "### Packages\n",
    "***"
   ]
  },
  {
   "cell_type": "code",
   "execution_count": 1,
   "id": "ecca72db",
   "metadata": {
    "scrolled": false
   },
   "outputs": [
    {
     "name": "stderr",
     "output_type": "stream",
     "text": [
      "\n",
      "載入套件：‘igraph’\n",
      "\n",
      "\n",
      "下列物件被遮斷自 ‘package:stats’:\n",
      "\n",
      "    decompose, spectrum\n",
      "\n",
      "\n",
      "下列物件被遮斷自 ‘package:base’:\n",
      "\n",
      "    union\n",
      "\n",
      "\n"
     ]
    }
   ],
   "source": [
    "library(igraph)"
   ]
  },
  {
   "cell_type": "markdown",
   "id": "d796c9ec",
   "metadata": {},
   "source": [
    "#### QUESTION 18: How many personal networks are there?\n",
    "> Ans: "
   ]
  },
  {
   "cell_type": "code",
   "execution_count": null,
   "id": "0e572b39",
   "metadata": {},
   "outputs": [],
   "source": []
  },
  {
   "cell_type": "markdown",
   "id": "bc57632f",
   "metadata": {},
   "source": [
    "#### QUESTION 19: For the 3 personal networks (node ID given below), plot the in-degree and out-degree distribution of these personal networks. Do the personal networks have a similar in and out degree distribution? In this question, you should have 6 plots.\n",
    "+ 109327480479767108490\n",
    "+ 115625564993990145546\n",
    "+ 101373961279443806744\n",
    "> Ans:"
   ]
  },
  {
   "cell_type": "code",
   "execution_count": null,
   "id": "284b8482",
   "metadata": {
    "scrolled": true
   },
   "outputs": [],
   "source": []
  },
  {
   "cell_type": "markdown",
   "id": "f0b76c59",
   "metadata": {},
   "source": [
    "### 1. Community structure of personal networks\n",
    "***\n",
    "In this part of the project, we will explore the community structure of the personal networks that we created and explore the connections between communities and user circles."
   ]
  },
  {
   "cell_type": "markdown",
   "id": "621ccab0",
   "metadata": {},
   "source": [
    "#### QUESTION 20: For the 3 personal networks picked in Question 19, extract the community structure of each personal network using Walktrap community detection algorithm. Report the modularity scores and plot the communities using colors. Are the modularity scores similar? In this question, you should have 3 plots.\n",
    "> Ans: "
   ]
  },
  {
   "cell_type": "code",
   "execution_count": null,
   "id": "fcd1b01a",
   "metadata": {},
   "outputs": [],
   "source": []
  },
  {
   "cell_type": "markdown",
   "id": "0a62456b",
   "metadata": {},
   "source": [
    "Having found the communities, now we will explore the relationship between circles and communities. In order to explore the relationship, we define two measures:\n",
    "+ Homogeneity\n",
    "+ Completeness\n",
    "\n",
    "Before, we state the expression for homogeneity and completeness, let’s introduce some notation:\n",
    "+ C is the set of circles, C = {C1, C2, C3, · · · }\n",
    "+ K is the set of communities, K = {K1, K2, K3, · · · }\n",
    "+ ai is the number of people in circle Ci\n",
    "+ bi is the number of people in community Ki with circle information\n",
    "+ N is the total number of people with circle information\n",
    "+ Aji is the number of people belonging to community j and circle i\n",
    "\n",
    "Then, with the above notation, we have the following expressions for the entropy\n",
    "$$\n",
    "H(C)=-\\sum_{i=1}^{|C|}\\frac{a_i}{N}\\log\\frac{a_i}{N}\n",
    "$$\n",
    "$$\n",
    "H(K)=-\\sum_{i=1}^{|K|}\\frac{b_i}{N}\\log\\frac{b_i}{N}\n",
    "$$\n",
    "and conditional entropy\n",
    "$$\n",
    "H(C|K) = −\\sum_{j=1}^{|K|}\\sum_{i=1}^{|C|}\\frac{A_{ji}}{N}\\log\\frac{A_{ji}}{b_j}\n",
    "$$\n",
    "$$\n",
    "H(K|C) = −\\sum_{i=1}^{|C|}\\sum_{j=1}^{|K|}\\frac{A_{ji}}{N}\\log\\frac{A_{ji}}{a_i}\n",
    "$$\n",
    "Now we can state the expression for homogeneity, h as\n",
    "$$\n",
    "h = 1 − \\frac{H(C|K)}{H(C)}\n",
    "$$\n",
    "and the expression for completeness, c as\n",
    "$$\n",
    "c = 1 − \\frac{H(K|C)}{H(K)}\n",
    "$$"
   ]
  },
  {
   "cell_type": "markdown",
   "id": "137c645b",
   "metadata": {},
   "source": [
    "#### QUESTION 21: Based on the expression for h and c, explain the meaning of homogeneity and completeness in words.\n",
    "> Ans: "
   ]
  },
  {
   "cell_type": "code",
   "execution_count": null,
   "id": "58add4cd",
   "metadata": {},
   "outputs": [],
   "source": []
  },
  {
   "cell_type": "markdown",
   "id": "313ea659",
   "metadata": {},
   "source": [
    "#### QUESTION 22: Compute the h and c values for the community structures of the 3 personal network (same nodes as Question 19). Interpret the values and provide a detailed explanation. Are there negative values? Why?\n",
    "> Ans: "
   ]
  },
  {
   "cell_type": "code",
   "execution_count": null,
   "id": "47afa511",
   "metadata": {},
   "outputs": [],
   "source": []
  }
 ],
 "metadata": {
  "kernelspec": {
   "display_name": "R",
   "language": "R",
   "name": "ir"
  },
  "language_info": {
   "codemirror_mode": "r",
   "file_extension": ".r",
   "mimetype": "text/x-r-source",
   "name": "R",
   "pygments_lexer": "r",
   "version": "4.2.3"
  }
 },
 "nbformat": 4,
 "nbformat_minor": 5
}
