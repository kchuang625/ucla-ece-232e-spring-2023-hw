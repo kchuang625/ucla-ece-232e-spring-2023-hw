{
 "cells": [
  {
   "cell_type": "markdown",
   "id": "a2a990d8",
   "metadata": {},
   "source": [
    "### Packages\n",
    "***"
   ]
  },
  {
   "cell_type": "code",
   "execution_count": 1,
   "id": "386a1951",
   "metadata": {
    "scrolled": true
   },
   "outputs": [
    {
     "name": "stderr",
     "output_type": "stream",
     "text": [
      "\n",
      "載入套件：‘igraph’\n",
      "\n",
      "\n",
      "下列物件被遮斷自 ‘package:stats’:\n",
      "\n",
      "    decompose, spectrum\n",
      "\n",
      "\n",
      "下列物件被遮斷自 ‘package:base’:\n",
      "\n",
      "    union\n",
      "\n",
      "\n",
      "載入需要的套件：Matrix\n",
      "\n",
      "\n",
      "載入套件：‘pracma’\n",
      "\n",
      "\n",
      "下列物件被遮斷自 ‘package:Matrix’:\n",
      "\n",
      "    expm, lu, tril, triu\n",
      "\n",
      "\n"
     ]
    }
   ],
   "source": [
    "library(igraph)\n",
    "library(resample)\n",
    "library(textTinyR)\n",
    "library(Matrix)\n",
    "library(pracma)"
   ]
  },
  {
   "cell_type": "markdown",
   "id": "2e2a298d",
   "metadata": {},
   "source": [
    "### 3. PageRank: The PageRank algorithm, as used by the Google search engine, exploits the linkage struc- ture of the web to compute global “importance” scores that can be used to influence the ranking of search results. Here, we use random walk to simulate PageRank.\n",
    "***"
   ]
  },
  {
   "cell_type": "markdown",
   "id": "e897d517",
   "metadata": {},
   "source": [
    "#### (a) We are going to create a directed random network with 900 nodes, using the preferen- tial attachment model. Note that in a directed preferential attachment network, the out-degree of every node is m, while the in-degrees follow a power law distribution. One problem of performing random walk in such a network is that, the very first node will have no outbounding edges, and be a “black hole” which a random walker can never “escape” from. To address that, let’s generate another 900-node random network with preferential attachment model, and merge the two networks by adding the edges of the second graph to the first graph with a shuffling of the indices of the nodes. See below figure for example. Create such a network using m = 4. Measure the probability that the walker visits each node. Is this probability related to the degree of the nodes?\n",
    "\n",
    "<img src=\"f1.png\" width=\"500\">\n",
    "\n",
    "> Ans: "
   ]
  },
  {
   "cell_type": "markdown",
   "id": "066199fe",
   "metadata": {},
   "source": [
    "#### (b) In all previous questions, we didn’t have any teleportation. Now, we use a teleporta- tion probability of α = 0.2 (teleport out of a node with prob=0.2 instead of going to its neighbor). By performing random walks on the network created in 3(a), measure the probability that the walker visits each node. How is this probability related to the degree of the node and α ?\n",
    "\n",
    "> Ans: "
   ]
  },
  {
   "cell_type": "markdown",
   "id": "9c7506dc",
   "metadata": {},
   "source": [
    "### 4. Personalized PageRank: While the use of PageRank has proven very effective, the web’s rapid growth in size and diversity drives an increasing demand for greater flexibility in ranking. Ideally, each user should be able to define their own notion of importance for each individual query.\n",
    "***"
   ]
  },
  {
   "cell_type": "markdown",
   "id": "b4f251c4",
   "metadata": {},
   "source": [
    "#### (a) Suppose you have your own notion of importance. Your interest in a node is propor- tional to the node’s PageRank, because you totally rely upon Google to decide which website to visit (assume that these nodes represent websites). Again, use random walk on network generated in question 3 to simulate this personalized PageRank. Here the teleportation probability to each node is proportional to its PageRank (as opposed to the regular PageRank, where at teleportation, the chance of visiting all nodes are the same and equal to 1/N ). Again, let the teleportation probability be equal to α = 0.2. Compare the results with 3(a).\n",
    "\n",
    "> Ans: "
   ]
  },
  {
   "cell_type": "markdown",
   "id": "bafbac7b",
   "metadata": {},
   "source": [
    "#### (b) Find two nodes in the network with median PageRanks. Repeat part 4(a) if tele- portations land only on those two nodes (with probabilities 1/2, 1/2). How are the PageRank values affected?\n",
    "\n",
    "> Ans: "
   ]
  },
  {
   "cell_type": "markdown",
   "id": "3ff38c7e",
   "metadata": {},
   "source": [
    "#### (c) More or less, 4(b) is what happens in the real world, in that a user browsing the web only teleports to a set of trusted web pages. However, this is against the assumption of normal PageRank, where we assume that people’s interest in all nodes are the same. Can you take into account the effect of this self-reinforcement and adjust the PageRank equation?\n",
    "\n",
    "> Ans: "
   ]
  }
 ],
 "metadata": {
  "kernelspec": {
   "display_name": "R",
   "language": "R",
   "name": "ir"
  },
  "language_info": {
   "codemirror_mode": "r",
   "file_extension": ".r",
   "mimetype": "text/x-r-source",
   "name": "R",
   "pygments_lexer": "r",
   "version": "4.2.3"
  }
 },
 "nbformat": 4,
 "nbformat_minor": 5
}
