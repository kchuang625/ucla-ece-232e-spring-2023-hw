{
 "cells": [
  {
   "cell_type": "markdown",
   "id": "5cc6b1a1",
   "metadata": {},
   "source": [
    "## 2. Random Walk on Networks\n",
    "***"
   ]
  },
  {
   "cell_type": "markdown",
   "id": "a2a990d8",
   "metadata": {},
   "source": [
    "### Packages\n",
    "***"
   ]
  },
  {
   "cell_type": "code",
   "execution_count": 1,
   "id": "386a1951",
   "metadata": {
    "scrolled": true
   },
   "outputs": [
    {
     "name": "stderr",
     "output_type": "stream",
     "text": [
      "\n",
      "載入套件：‘igraph’\n",
      "\n",
      "\n",
      "下列物件被遮斷自 ‘package:stats’:\n",
      "\n",
      "    decompose, spectrum\n",
      "\n",
      "\n",
      "下列物件被遮斷自 ‘package:base’:\n",
      "\n",
      "    union\n",
      "\n",
      "\n",
      "載入需要的套件：Matrix\n",
      "\n",
      "\n",
      "載入套件：‘pracma’\n",
      "\n",
      "\n",
      "下列物件被遮斷自 ‘package:Matrix’:\n",
      "\n",
      "    expm, lu, tril, triu\n",
      "\n",
      "\n"
     ]
    }
   ],
   "source": [
    "library(igraph)\n",
    "library(resample)\n",
    "library(textTinyR)\n",
    "library(Matrix)\n",
    "library(pracma)"
   ]
  },
  {
   "cell_type": "markdown",
   "id": "a18c96ee",
   "metadata": {},
   "source": [
    "### 1. Random walk on Erdo ̈s-R ́enyi networks\n",
    "***"
   ]
  },
  {
   "cell_type": "markdown",
   "id": "cd81d616",
   "metadata": {},
   "source": [
    "#### (a) Create an undirected random network with 900 nodes, and the probability p for drawing an edge between any pair of nodes equal to 0.015."
   ]
  },
  {
   "cell_type": "markdown",
   "id": "c25d3884",
   "metadata": {},
   "source": [
    "#### (b) Let a random walker start from a randomly selected node (no teleportation). We use t to denote the number of steps that the walker has taken. Measure the average distance (defined as the shortest path length) ⟨s(t)⟩ of the walker from his starting point at step t. Also, measure the variance σ2(t) = ⟨(s(t) − ⟨s(t)⟩)2⟩ of this distance. Plot ⟨s(t)⟩ v.s. t and σ2(t) v.s. t. Here, the average ⟨·⟩ is over random choices of the starting nodes."
   ]
  },
  {
   "cell_type": "markdown",
   "id": "810cc352",
   "metadata": {},
   "source": [
    "#### (c) Measure the degree distribution of the nodes reached at the end of the random walk. How does it compare to the degree distribution of graph?\n",
    "\n",
    "> Ans: "
   ]
  },
  {
   "cell_type": "markdown",
   "id": "7a91db62",
   "metadata": {},
   "source": [
    "#### (d) Repeat 1(b) for undirected random networks with 9000 nodes. Compare the results and explain qualitatively. Does the diameter of the network play a role?\n",
    "\n",
    "> Ans: "
   ]
  },
  {
   "cell_type": "markdown",
   "id": "cb24d737",
   "metadata": {},
   "source": [
    "### 2. Random walk on networks with fat-tailed degree distribution\n",
    "***"
   ]
  },
  {
   "cell_type": "markdown",
   "id": "629bc0e4",
   "metadata": {},
   "source": [
    "#### (a) Generate an undirected preferential attachment network with 900 nodes, where each new node attaches to m = 1 old nodes."
   ]
  },
  {
   "cell_type": "markdown",
   "id": "1dea24f2",
   "metadata": {},
   "source": [
    "#### (b) Let a random walker start from a randomly selected node. Measure and plot ⟨s(t)⟩ v.s. t and σ2(t) v.s. t."
   ]
  },
  {
   "cell_type": "markdown",
   "id": "c12250fa",
   "metadata": {},
   "source": [
    "#### (c) Measure the degree distribution of the nodes reached at the end of the random walk on this network. How does it compare with the degree distribution of the graph?\n",
    "\n",
    "> Ans: "
   ]
  },
  {
   "cell_type": "markdown",
   "id": "4885bcde",
   "metadata": {},
   "source": [
    "#### (d) Repeat 2(b) for preferential attachment networks with 90 and 9000 nodes, and m = 1. Compare the results and explain qualitatively. Does the diameter of the network play a role?\n",
    "\n",
    "> Ans: "
   ]
  }
 ],
 "metadata": {
  "kernelspec": {
   "display_name": "R",
   "language": "R",
   "name": "ir"
  },
  "language_info": {
   "codemirror_mode": "r",
   "file_extension": ".r",
   "mimetype": "text/x-r-source",
   "name": "R",
   "pygments_lexer": "r",
   "version": "4.2.3"
  }
 },
 "nbformat": 4,
 "nbformat_minor": 5
}
