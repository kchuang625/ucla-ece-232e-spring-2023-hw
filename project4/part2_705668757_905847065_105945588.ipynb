{
 "cells": [
  {
   "cell_type": "markdown",
   "id": "718c01c3",
   "metadata": {},
   "source": [
    "## 2. Let’s Help Santa!\n",
    "***\n",
    "Companies like Google and Uber have a vast amount of statistics about transportation dynamics. Santa has decided to use network theory to facilitate his gift delivery for the next Christmas. When we learned about his decision, we designed this part of the project to help him. We will send him your results for this part!\n",
    "\n",
    "### 1. Download the Data\n",
    "***\n",
    "Go to [“Uber Movement”](https://movement.uber.com/?lang=en-US) website and download data of Travel Times by Month (All Days), 2019 Quarter 4, for Los Angeles area1. The dataset contains pairwise traveling time statistics between most pairs of points in the Los Angeles area. Points on the map are represented by unique IDs. To understand the correspondence between map IDs and areas, download Geo Boundaries file from the same website2. This file contains latitudes and longitudes of the corners of the polygons circumscribing each area. To be specific, if an area is represented by a polygon with 5 corners, then you have a 5 × 2 matrix of the latitudes and longitudes, each row of which represents latitude and longitude of one corner. We recommend doing this part of the project (Q9 - Q18) in Python."
   ]
  },
  {
   "cell_type": "markdown",
   "id": "c43ddfe0",
   "metadata": {},
   "source": [
    "### 2. Build Your Graph\n",
    "***\n",
    "Read the dataset at hand, and build a graph in which nodes correspond to locations, and undirected weighted edges correspond to the mean traveling times between each pair of locations (only December). Add the centroid coordinates of each polygon region (a 2-D vector) as an attribute to the corresponding vertex. The graph will contain some isolated nodes (extra nodes existing in the Geo Boundaries JSON file) and a few small connected components. Remove such nodes and just keep the largest connected component of the graph. In addition, merge duplicate edges by averaging their weights 3. We will refer to this cleaned graph as G afterwards.\n",
    "\n",
    "#### QUESTION 9: Report the number of nodes and edges in G.\n",
    "\n",
    "> Ans:"
   ]
  },
  {
   "cell_type": "code",
   "execution_count": null,
   "id": "d468744b",
   "metadata": {},
   "outputs": [],
   "source": []
  },
  {
   "cell_type": "markdown",
   "id": "54e03dbd",
   "metadata": {},
   "source": [
    "### 3. Traveling Salesman Problem\n",
    "***\n",
    "#### QUESTION 10: Build a minimum spanning tree (MST) of graph G. Report the street addresses near the two endpoints (the centroid locations) of a few edges. Are the results intuitive?\n",
    "\n",
    "> Ans:"
   ]
  },
  {
   "cell_type": "code",
   "execution_count": null,
   "id": "aa8af5bf",
   "metadata": {},
   "outputs": [],
   "source": []
  },
  {
   "cell_type": "markdown",
   "id": "01813d49",
   "metadata": {},
   "source": [
    "#### QUESTION 11: Determine what percentage of triangles in the graph (sets of 3 points on the map) satisfy the triangle inequality. You do not need to inspect all triangles, you can just estimate by random sampling of 1000 triangles.\n",
    "\n",
    "> Ans:"
   ]
  },
  {
   "cell_type": "code",
   "execution_count": null,
   "id": "a0c9c8e1",
   "metadata": {},
   "outputs": [],
   "source": []
  },
  {
   "cell_type": "markdown",
   "id": "6856ce13",
   "metadata": {},
   "source": [
    "Now, we want to find an approximation solution for the traveling salesman problem (TSP) on G. Apply the 1-approximate algorithm described in the class4. Inspect the sequence of street addresses visited on the map and see if the results are intuitive.\n",
    "\n",
    "#### QUESTION 12: Find an upper bound on the empirical performance of the approximate algorithm:\n",
    "$$\n",
    "ρ = \\frac{\\text{Approximate TSP Cost}}{\\text{Optimal TSP Cost}}\n",
    "$$\n",
    "\n",
    "> Ans:"
   ]
  },
  {
   "cell_type": "markdown",
   "id": "9c6ff7ec",
   "metadata": {},
   "source": [
    "#### QUESTION 13: Plot the trajectory that Santa has to travel!\n",
    "\n",
    "> Ans:"
   ]
  },
  {
   "cell_type": "code",
   "execution_count": null,
   "id": "aa80d6e9",
   "metadata": {},
   "outputs": [],
   "source": []
  },
  {
   "cell_type": "markdown",
   "id": "678fdaae",
   "metadata": {},
   "source": [
    "### 4. Analysing Traffic Flow\n",
    "***\n",
    "Next December, there is going to be a large group of visitors travelling between a location near Malibu to a location near Long Beach. We would like to analyse the maximum traffic that can flow between the two locations.\n",
    "\n",
    "### 5. Estimate the Roads\n",
    "***\n",
    "We want to estimate the map of roads without using actual road datasets. Educate yourself about Delaunay triangulation algorithm and then apply it to the nodes coordinates.\n",
    "\n",
    "#### QUESTION 14: Plot the road mesh that you obtain and explain the result. Create a graph $G_∆$ whose nodes are different locations and its edges are produced by triangulation.\n",
    "\n",
    "> Ans:"
   ]
  },
  {
   "cell_type": "code",
   "execution_count": null,
   "id": "ba555124",
   "metadata": {},
   "outputs": [],
   "source": []
  },
  {
   "cell_type": "markdown",
   "id": "8b6f08ce",
   "metadata": {},
   "source": [
    "### 6. Calculate Road Traffic Flows\n",
    "***\n",
    "#### QUESTION 15: Using simple math, calculate the traffic flow for each road in terms of cars/hour. Report your derivation.\n",
    "Hint: Consider the following assumptions:\n",
    "+ Each degree of latitude and longitude ≈ 69 miles\n",
    "+ Car length ≈ 5 m = 0.003 mile\n",
    "+ Cars maintain a safety distance of 2 seconds to the next car\n",
    "+ Each road has 2 lanes in each direction\n",
    "\n",
    "Assuming no traffic jam, consider the calculated traffic flow as the max capacity of each road.\n",
    "\n",
    "> Ans:"
   ]
  },
  {
   "cell_type": "code",
   "execution_count": null,
   "id": "e18db325",
   "metadata": {},
   "outputs": [],
   "source": []
  },
  {
   "cell_type": "markdown",
   "id": "37914c4e",
   "metadata": {},
   "source": [
    "### 7. Calculate Max Flow\n",
    "***\n",
    "Consider the following locations in terms of latitude and longitude:\n",
    "+ Source coordinates (in Malibu): $[34.04, -118.56]$\n",
    "+ Destination coordinates (in Long Beach): $[33.77, -118.18]$\n",
    "\n",
    "#### QUESTION 16: Calculate the maximum number of cars that can commute per hour from Malibu to Long Beach. Also calculate the number of edge-disjoint paths between the two spots. Does the number of edge-disjoint paths match what you see on your road map?\n",
    "\n",
    "> Ans:"
   ]
  },
  {
   "cell_type": "code",
   "execution_count": null,
   "id": "37b15f19",
   "metadata": {},
   "outputs": [],
   "source": []
  },
  {
   "cell_type": "markdown",
   "id": "b0e5af42",
   "metadata": {},
   "source": [
    "### 8. Prune Your Graph\n",
    "***\n",
    "In $G_∆$, there are a number of unreal roads that could be removed. For instance, you might notice some unreal links along the concavities of the beach, as well as in the hills of Topanga. Apply a threshold on the travel time of the roads in $G_∆$ to remove the fake edges. Call the resulting graph $\\tilde{G}_∆$.\n",
    "\n",
    "#### QUESTION 17: Plot $\\tilde{G}_∆$ on actual coordinates. Do you think the thresholding method worked?\n",
    "\n",
    "> Ans:"
   ]
  },
  {
   "cell_type": "code",
   "execution_count": null,
   "id": "7f1517c2",
   "metadata": {},
   "outputs": [],
   "source": []
  },
  {
   "cell_type": "markdown",
   "id": "0e2ed54e",
   "metadata": {},
   "source": [
    "#### QUESTION 18: Now, repeat question 13 for $\\tilde{G}_∆$ and report the results. Do you see any changes? Why?\n",
    "\n",
    "> Ans:"
   ]
  },
  {
   "cell_type": "code",
   "execution_count": null,
   "id": "dc69b18b",
   "metadata": {},
   "outputs": [],
   "source": []
  },
  {
   "cell_type": "markdown",
   "id": "82a01127",
   "metadata": {},
   "source": [
    "### 9. Construct New Roads\n",
    "***\n",
    "Let us assume that the output of question 17 (graph $\\tilde{G}_∆$) is the actual road network of LA. The government of LA wants to construct 20 new roads (each road is an edge). They ask you to help them decide where to construct the roads. In other words, you have to create 20 new edges in the graph.\n",
    "\n",
    "#### QUESTION 19: Strategy 1 (geo distance, static): Reduce the maximum extra travelling distance. The extra travelling distance between 2 locations is the difference of the shortest traveling distance and the straight line distance. i.e extra_distance(v,s) = distance_of_shortest_path(v,s) - euclidean_distance(v,s). Use the coordinates of v and s to get the euclidean distance between them. Calculate the extra distance between all pairs of points. The top 20 pairs with highest extra distance will be the new edges we suggest. Print the source and destination of these pairs and write them in your report. Create these new edges in the graph, and plot the resultant graph on actual coordinates. What is the time complexity of the strategy?\n",
    "\n",
    "> Ans:"
   ]
  },
  {
   "cell_type": "code",
   "execution_count": null,
   "id": "b6fc3080",
   "metadata": {},
   "outputs": [],
   "source": []
  },
  {
   "cell_type": "markdown",
   "id": "26c0f2c5",
   "metadata": {},
   "source": [
    "#### QUESTION 20: Strategy 2 (geo distance, static, with frequency): In strategy1, we are using the geographical distance between points to decide which new road to create. However, in the real world, some pairs are more in demand than other pairs. Assume that you know the frequency of travel between every pair. Use the frequency as the weight to multiply the difference. i.e weighted_extra_distance(v,s) = extra_distance(v,s) * frequency(v,s) where frequency(v,s) is a random integer between $[1,1000]$. Use the coordinates of v and s to get the euclidean distance between them. Calculate the weighted extra distance between all pairs of points. The top 20 pairs with highest weighted extra distance will be the new edges we suggest. Print the source and destination of these pairs and write them in your report. Create these new edges in the graph, and plot the resultant graph on actual coordinates. What is the time complexity of the strategy?\n",
    "\n",
    "> Ans:"
   ]
  },
  {
   "cell_type": "code",
   "execution_count": null,
   "id": "7c1b8818",
   "metadata": {},
   "outputs": [],
   "source": []
  },
  {
   "cell_type": "markdown",
   "id": "39424b20",
   "metadata": {},
   "source": [
    "#### QUESTION 21: Strategy 3 (geo distance, dynamic): In the above strategy, we are creating all roads at the same time. This time, we will create the roads one by one. Repeat 20 times: i) Compute extra distance between all the pairs in the graph. ii) Create a road between the pair with highest extra distance and update the graph. iii) Print the source and destination of this new edge. Report the source and destination of the 20 new edges. plot the final graph on actual coordinates. What is the time complexity of the strategy?\n",
    "\n",
    "> Ans:"
   ]
  },
  {
   "cell_type": "code",
   "execution_count": null,
   "id": "3e5b32f5",
   "metadata": {},
   "outputs": [],
   "source": []
  },
  {
   "cell_type": "markdown",
   "id": "a39f8f0f",
   "metadata": {},
   "source": [
    "#### QUESTION 22: Strategy 4 (Travel time, static): We want to optimize to reduce the maximum extra travelling time. The extra travelling distance between 2 locations is the difference of the shortest traveling time and the straight line travel time. i.e extra_time(v,s) = travel_time_of_shortest_path(v,s) - euclidean_distance(v,s) / travel_speed(v,s) and travel_speed(v,s) = distance_of_shortest_path(v,s) / travel_time_of_shortest_path(v,s). Use the coordinates of v and s to get the euclidean distance between them. Calculate the extra time between all pairs of points. The top 20 pairs with highest extra time will be the new edges we suggest. Print the source and destination of these pairs and write them in your report. Create these new edges in the graph, and plot the resultant graph on actual coordinates. What is the time complexity of the strategy? What is the time complexity of the strategy?\n",
    "\n",
    "> Ans:"
   ]
  },
  {
   "cell_type": "code",
   "execution_count": null,
   "id": "e71a4c79",
   "metadata": {},
   "outputs": [],
   "source": []
  },
  {
   "cell_type": "markdown",
   "id": "17dd9c85",
   "metadata": {},
   "source": [
    "#### QUESTION 23: Strategy 5 (Travel time, dynamic): Similar to strategy 3, this time we will create roads one by one while optimizing the travel time. Repeat 20 times: i) Compute extra time between all the pairs in the graph. ii) Create a road between the pair with highest extra time and update the graph. iii) Print the source and destination of this new edge. Report the source and destination of the 20 new edges. plot the final graph on actual coordinates. What is the time complexity of the strategy?\n",
    "\n",
    "> Ans:"
   ]
  },
  {
   "cell_type": "code",
   "execution_count": null,
   "id": "2aa3e900",
   "metadata": {},
   "outputs": [],
   "source": []
  },
  {
   "cell_type": "markdown",
   "id": "7c7af92b",
   "metadata": {},
   "source": [
    "#### QUESTION 24: Strategy comparison. Compare the following strategies:\n",
    "+ a) 1 vs 2 - compare and analyze the results. which is better? why?\n",
    "+ b) 1 vs 3 - compare and analyze the results. which is better? why?\n",
    "+ c) 1 vs 4 - compare and analyze the results. which is better? why?\n",
    "+ d) statics vs dynamic - Considering we want to improve the overall road network by constructing new roads, is either of them the optimal strategy?\n",
    "    + i) if yes, which one and why?\n",
    "    + ii) if not, what would be a better strategy to construct roads and is it optimal? What is the time complexity?\n",
    "\n",
    "(assume that you want to reduce travelling distances and you know before hand that we have to\n",
    "construct 20 new roads).\n",
    "\n",
    "> Ans:"
   ]
  },
  {
   "cell_type": "markdown",
   "id": "0ad747ad",
   "metadata": {},
   "source": [
    "#### e) Open ended question : Come up with new strategy. You are free to make any assumptions. You don’t have to necessarily optimize traveling time or distance, you can come up with any constraints. justify your strategy.\n",
    "\n",
    "> Ans:"
   ]
  },
  {
   "cell_type": "code",
   "execution_count": null,
   "id": "198d4a2a",
   "metadata": {},
   "outputs": [],
   "source": []
  },
  {
   "cell_type": "markdown",
   "id": "9b892e17",
   "metadata": {},
   "source": [
    "### 10. Define Your Own Task\n",
    "***\n",
    "Brainstorm with your group, then define and implement a new interesting task based on the dataset at hand. We recommend you to download and use data of other time periods. The duration of this data should be at least three months. For example you may use January 2020 to March 2020 in which the major changes happened to daily’s commutes. This part is open-ended and you’ll be graded based on your creativity. You may also wish to go beyond, and use any other navigation- / traffic- related dataset and define your favorite task. This part is worth 20% credit of the project. You may discuss your ideas with the TA in designated office hours.\n",
    "\n",
    "> Ans:"
   ]
  },
  {
   "cell_type": "code",
   "execution_count": null,
   "id": "c5f602eb",
   "metadata": {},
   "outputs": [],
   "source": []
  }
 ],
 "metadata": {
  "kernelspec": {
   "display_name": "Python 3 (ipykernel)",
   "language": "python",
   "name": "python3"
  },
  "language_info": {
   "codemirror_mode": {
    "name": "ipython",
    "version": 3
   },
   "file_extension": ".py",
   "mimetype": "text/x-python",
   "name": "python",
   "nbconvert_exporter": "python",
   "pygments_lexer": "ipython3",
   "version": "3.9.0"
  }
 },
 "nbformat": 4,
 "nbformat_minor": 5
}
