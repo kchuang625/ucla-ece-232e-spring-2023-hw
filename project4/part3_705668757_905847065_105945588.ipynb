{
 "cells": [
  {
   "cell_type": "markdown",
   "id": "9b892e17",
   "metadata": {},
   "source": [
    "### 10. Define Your Own Task\n",
    "***\n",
    "Brainstorm with your group, then define and implement a new interesting task based on the dataset at hand. We recommend you to download and use data of other time periods. The duration of this data should be at least three months. For example you may use January 2020 to March 2020 in which the major changes happened to daily’s commutes. This part is open-ended and you’ll be graded based on your creativity. You may also wish to go beyond, and use any other navigation- / traffic- related dataset and define your favorite task. This part is worth 20% credit of the project. You may discuss your ideas with the TA in designated office hours.\n",
    "\n",
    "> Task definition: Our task is to predict the travelling time of roads from Los Angeles area1. The duration of this part is Q1 of 2020. We apply the same method to compute the travelling time and the coordinate as the part 2. To make prediction, we will train a tree-based regressor on several node and graph features. Note that we split 50% of the roads to be the training data, and leave the rest 50% of them to evaluate the model performance. Since it is a regression task, we use root of mean square error (RMSE) as our evaluation metric."
   ]
  },
  {
   "cell_type": "markdown",
   "id": "718c01c3",
   "metadata": {},
   "source": [
    "### load package\n",
    "***"
   ]
  },
  {
   "cell_type": "code",
   "execution_count": 1,
   "id": "4b7607dc",
   "metadata": {},
   "outputs": [],
   "source": [
    "import json\n",
    "import random\n",
    "\n",
    "import igraph as ig\n",
    "import matplotlib.pyplot as plt\n",
    "import networkx as nx\n",
    "import numpy as np\n",
    "import pandas as pd\n",
    "from sklearn.decomposition import TruncatedSVD\n",
    "from sklearn.ensemble import RandomForestRegressor\n",
    "from tqdm.auto import tqdm"
   ]
  },
  {
   "cell_type": "markdown",
   "id": "ff25fe37",
   "metadata": {},
   "source": [
    "### load data\n",
    "***\n",
    "The preprocessing is the same as that of part 2."
   ]
  },
  {
   "cell_type": "code",
   "execution_count": 2,
   "id": "d468744b",
   "metadata": {},
   "outputs": [
    {
     "name": "stdout",
     "output_type": "stream",
     "text": [
      "Number of nodes:  2651\n",
      "Number of edges:  978316\n"
     ]
    }
   ],
   "source": [
    "df = pd.read_csv(\"los_angeles-censustracts-2020-1-All-MonthlyAggregate.csv\")\n",
    "df = df[[\"sourceid\", \"dstid\", \"mean_travel_time\"]].reset_index(drop=True)\n",
    "\n",
    "df[\"source_id\"] = df[[\"sourceid\", \"dstid\"]].min(axis=1)\n",
    "df[\"dst_id\"] = df[[\"sourceid\", \"dstid\"]].max(axis=1)\n",
    "graph = df.groupby(by=[\"source_id\", \"dst_id\"], as_index=False)[\"mean_travel_time\"].mean()\n",
    "\n",
    "with open(\"graph_data_part3.txt\", \"w\") as f:\n",
    "    for _, (source_id, dst_id, mean_travel_time) in enumerate(graph.values):\n",
    "        f.write(\"{} {} {}\\n\".format(int(source_id), int(dst_id), mean_travel_time))\n",
    "\n",
    "g = ig.Graph.Read(f=\"graph_data_part3.txt\", format=\"ncol\", directed=False)\n",
    "gcc = g.components().giant()\n",
    "gcc = gcc.to_networkx()\n",
    "\n",
    "print(\"Number of nodes: \", len(gcc.nodes))\n",
    "print(\"Number of edges: \", len(gcc.edges))"
   ]
  },
  {
   "cell_type": "code",
   "execution_count": 3,
   "id": "f004b5d0",
   "metadata": {},
   "outputs": [],
   "source": [
    "# load location data\n",
    "loc_data = {}\n",
    "with open(\"los_angeles_censustracts.json\", \"r\") as f:\n",
    "    cur = json.loads(f.readline())\n",
    "    for feature in cur[\"features\"]:\n",
    "        # sync with TA's helper code\n",
    "        a = feature['geometry']['coordinates'][0]\n",
    "        mean_coords = np.array(a if type(a[0][0]) == float else a[0]).mean(axis=0)\n",
    "        loc_data[feature[\"properties\"][\"MOVEMENT_ID\"]] = {\n",
    "            \"address\": feature[\"properties\"][\"DISPLAY_NAME\"], \"mean_coords\": mean_coords\n",
    "        }"
   ]
  },
  {
   "cell_type": "markdown",
   "id": "9fd3c486",
   "metadata": {},
   "source": [
    "### prepare training data\n",
    "***\n",
    "We use the mean travelling time of roads as our prediction target."
   ]
  },
  {
   "cell_type": "code",
   "execution_count": 4,
   "id": "a1646c27",
   "metadata": {
    "scrolled": true
   },
   "outputs": [
    {
     "data": {
      "application/json": {
       "ascii": false,
       "bar_format": null,
       "colour": null,
       "elapsed": 0.017928361892700195,
       "initial": 0,
       "n": 0,
       "ncols": null,
       "nrows": 23,
       "postfix": null,
       "prefix": "",
       "rate": null,
       "total": 978316,
       "unit": "it",
       "unit_divisor": 1000,
       "unit_scale": false
      },
      "application/vnd.jupyter.widget-view+json": {
       "model_id": "0f46e2110d234d4985587d513013c341",
       "version_major": 2,
       "version_minor": 0
      },
      "text/plain": [
       "  0%|          | 0/978316 [00:00<?, ?it/s]"
      ]
     },
     "metadata": {},
     "output_type": "display_data"
    }
   ],
   "source": [
    "def get_distance_by_index(i, j):\n",
    "    coords1 = loc_data[gcc.nodes[i][\"name\"]][\"mean_coords\"]\n",
    "    coords2 = loc_data[gcc.nodes[j][\"name\"]][\"mean_coords\"]\n",
    "    return (((coords1 - coords2) ** 2).sum()) ** 0.5\n",
    "\n",
    "\n",
    "edges = list(gcc.edges)\n",
    "distances = [get_distance_by_index(s, t) for s, t in tqdm(edges)]\n",
    "edge2time = nx.get_edge_attributes(gcc, \"weight\")\n",
    "travel_times = [edge2time[e] for e in list(gcc.edges)]\n",
    "\n",
    "# split train and test set\n",
    "train_rate = 0.5\n",
    "n_train = round(len(travel_times) * train_rate)\n",
    "all_indices = list(range(len(travel_times)))\n",
    "random.shuffle(all_indices)\n",
    "train_indices = all_indices[:n_train]\n",
    "test_indices = all_indices[n_train:]\n",
    "\n",
    "# target: travelling time\n",
    "travel_times = np.array(travel_times)\n",
    "y_train = travel_times[train_indices]\n",
    "y_test = travel_times[test_indices]"
   ]
  },
  {
   "cell_type": "markdown",
   "id": "672f3057",
   "metadata": {},
   "source": [
    "### Random predictor\n",
    "***\n",
    "To set a lower bound of the performance, we implement a simple random predictor that randomly predicts the travelling time from a normal distribution using the mean and standard deviation from the training set."
   ]
  },
  {
   "cell_type": "code",
   "execution_count": 5,
   "id": "cd64dd82",
   "metadata": {},
   "outputs": [
    {
     "name": "stdout",
     "output_type": "stream",
     "text": [
      "Test rmse: 899.964\n"
     ]
    }
   ],
   "source": [
    "def compute_rmse(y, y_pred):\n",
    "    return ((y - y_pred) ** 2).mean() ** 0.5\n",
    "\n",
    "\n",
    "mu = y_train.mean()\n",
    "std = y_train.std()\n",
    "y_pred = np.random.normal(mu, std, len(y_test))\n",
    "rmse = round(compute_rmse(y_test, y_pred), 3)\n",
    "print(f\"Test rmse: {rmse}\")"
   ]
  },
  {
   "cell_type": "markdown",
   "id": "1f22406c",
   "metadata": {},
   "source": [
    "### Baseline: Only use edge length\n",
    "***\n",
    "If the traffic condition is good, the travelling time should only depend on the length of the road. As can be seen in the below cell, the performance is much better than the random predictor. It means that the length of road is surely an important factor of the travelling time. Next, we set this as our baseline and try to find if there are any other factors affecting the travelling time."
   ]
  },
  {
   "cell_type": "code",
   "execution_count": 6,
   "id": "2ed6a5ad",
   "metadata": {},
   "outputs": [
    {
     "name": "stdout",
     "output_type": "stream",
     "text": [
      "Start fitting\n",
      "X_train shape: (489158, 1); X_test shape: (489158, 1)\n",
      "Train rmse: 358.679\n",
      "Test rmse: 360.239\n"
     ]
    }
   ],
   "source": [
    "def fit_and_evaluate(X_train, y_train, X_test, y_test):\n",
    "    print(\"Start fitting\")\n",
    "    print(f\"X_train shape: {X_train.shape}; X_test shape: {X_test.shape}\")\n",
    "    max_depth = 8  # avoid overfitting\n",
    "    reg = RandomForestRegressor(max_depth=max_depth).fit(X_train, y_train)\n",
    "    y_pred_train = reg.predict(X_train)\n",
    "    y_pred_test = reg.predict(X_test)\n",
    "    rmse_train = round(compute_rmse(y_train, y_pred_train), 3)\n",
    "    rmse_test = round(compute_rmse(y_test, y_pred_test), 3)\n",
    "    print(f\"Train rmse: {rmse_train}\")\n",
    "    print(f\"Test rmse: {rmse_test}\")\n",
    "\n",
    "\n",
    "distances = np.array(distances).reshape(-1, 1)\n",
    "X_train = distances[train_indices]\n",
    "X_test = distances[test_indices]\n",
    "\n",
    "fit_and_evaluate(X_train, y_train, X_test, y_test)"
   ]
  },
  {
   "cell_type": "markdown",
   "id": "476d9081",
   "metadata": {},
   "source": [
    "### Feature engineering 1: Add node degrees\n",
    "***\n",
    "Based on our experience, the traffic is worse in the area with denser roads, downtown for exapmle. Therefore, we hypothesize that degrees of the two nodes of an edge can be helpful to predict the travelling time. As we can see from the result, the performance does significantly improve with these features."
   ]
  },
  {
   "cell_type": "code",
   "execution_count": 7,
   "id": "4ab66cc4",
   "metadata": {},
   "outputs": [
    {
     "name": "stdout",
     "output_type": "stream",
     "text": [
      "Start fitting\n",
      "X_train shape: (489158, 3); X_test shape: (489158, 3)\n",
      "Train rmse: 337.259\n",
      "Test rmse: 339.028\n"
     ]
    }
   ],
   "source": [
    "degrees = np.array([[gcc.degree[s], gcc.degree[t]] for s, t in edges])\n",
    "\n",
    "X_train = np.concatenate([X_train, degrees[train_indices]], axis=1)\n",
    "X_test = np.concatenate([X_test, degrees[test_indices]], axis=1)\n",
    "\n",
    "fit_and_evaluate(X_train, y_train, X_test, y_test)"
   ]
  },
  {
   "cell_type": "markdown",
   "id": "47ecf046",
   "metadata": {},
   "source": [
    "### Feature engineering 2: Add node coordinates\n",
    "***\n",
    "We also observe that traffic jam usually happens in some specific area such as freeway 405 near LAX airport. Hence, we add the coordinates of the two nodes of an edge as features and find that the performance further improves quite a lot."
   ]
  },
  {
   "cell_type": "code",
   "execution_count": 8,
   "id": "c3d177b5",
   "metadata": {},
   "outputs": [
    {
     "name": "stdout",
     "output_type": "stream",
     "text": [
      "Start fitting\n",
      "X_train shape: (489158, 7); X_test shape: (489158, 7)\n",
      "Train rmse: 271.946\n",
      "Test rmse: 274.231\n"
     ]
    }
   ],
   "source": [
    "coordinates = []\n",
    "for s, t in edges:\n",
    "    x1, y1 = loc_data[gcc.nodes[s][\"name\"]][\"mean_coords\"]\n",
    "    x2, y2 = loc_data[gcc.nodes[t][\"name\"]][\"mean_coords\"]\n",
    "    coordinates.append([x1, y1, x2, y2])\n",
    "coordinates = np.array(coordinates)\n",
    "\n",
    "X_train = np.concatenate([X_train, coordinates[train_indices]], axis=1)\n",
    "X_test = np.concatenate([X_test, coordinates[test_indices]], axis=1)\n",
    "\n",
    "fit_and_evaluate(X_train, y_train, X_test, y_test)"
   ]
  },
  {
   "cell_type": "markdown",
   "id": "6f750728",
   "metadata": {},
   "source": [
    "### Feature engineering 3: Add eigenvector centrality\n",
    "***\n",
    "In addition to the degree of a node, we want to see if there are other node features that contain additional information of the travelling time. In this section, we add eigenvector centrality that measures the transitive influence of nodes. Relationships originating from high-scoring nodes contribute more to the score of a node than connections from low-scoring nodes. A high eigenvector score means that a node is connected to many nodes who themselves have high scores. However, it turns out that there is no improvement after adding this feature."
   ]
  },
  {
   "cell_type": "code",
   "execution_count": 9,
   "id": "6cde27d8",
   "metadata": {},
   "outputs": [
    {
     "name": "stdout",
     "output_type": "stream",
     "text": [
      "Start fitting\n",
      "X_train shape: (489158, 9); X_test shape: (489158, 9)\n",
      "Train rmse: 271.902\n",
      "Test rmse: 274.213\n"
     ]
    }
   ],
   "source": [
    "# cannot use edge weight\n",
    "centralities = nx.eigenvector_centrality(gcc, weight=None)\n",
    "edge_centralities = np.array([[centralities[s], centralities[t]] for s, t in edges])\n",
    "\n",
    "X_train = np.concatenate([X_train, edge_centralities[train_indices]], axis=1)\n",
    "X_test = np.concatenate([X_test, edge_centralities[test_indices]], axis=1)\n",
    "\n",
    "fit_and_evaluate(X_train, y_train, X_test, y_test)"
   ]
  },
  {
   "cell_type": "markdown",
   "id": "fa3e7973",
   "metadata": {},
   "source": [
    "### Feature engineering 4: Add clustering coefficient\n",
    "***\n",
    "In this section, we include another node feature, clustering coefficient, which is a measure of degree to which nodes in a graph tend to cluster together. The values for the clustering coefficient range from 0 to 1. A node has a clustering coefficient of 1 when it forms a clique with its neighbors, while a node has a clustering coefficient of 0 when there are no edges among the node's neighbors. With this feature added, the performance slightly improves."
   ]
  },
  {
   "cell_type": "code",
   "execution_count": 10,
   "id": "22656638",
   "metadata": {},
   "outputs": [
    {
     "name": "stdout",
     "output_type": "stream",
     "text": [
      "Start fitting\n",
      "X_train shape: (489158, 11); X_test shape: (489158, 11)\n",
      "Train rmse: 268.87\n",
      "Test rmse: 271.124\n"
     ]
    }
   ],
   "source": [
    "# cannot use edge weight\n",
    "clustering_coefs = nx.clustering(gcc, weight=None)\n",
    "egde_clustering_coefs = np.array(\n",
    "    [[clustering_coefs[s], clustering_coefs[t]] for s, t in edges]\n",
    ")\n",
    "\n",
    "X_train = np.concatenate([X_train, egde_clustering_coefs[train_indices]], axis=1)\n",
    "X_test = np.concatenate([X_test, egde_clustering_coefs[test_indices]], axis=1)\n",
    "\n",
    "fit_and_evaluate(X_train, y_train, X_test, y_test)"
   ]
  },
  {
   "cell_type": "markdown",
   "id": "411d8136",
   "metadata": {},
   "source": [
    "### Correlation analysis\n",
    "***\n",
    "In this section, we show the correlation between the features we generate. As can be seen in table, the centrality features are extremely correlated with the degree features. It explains why there is no performance gain after adding the centrality features. Moreover, the high absolute correlation cooefficients between the clustering and the degree features are also the reason why there is only a little improvement with the clustering features included."
   ]
  },
  {
   "cell_type": "code",
   "execution_count": 11,
   "id": "7309677d",
   "metadata": {},
   "outputs": [
    {
     "data": {
      "text/html": [
       "<style  type=\"text/css\" >\n",
       "#T_12639d47_ff5f_11ed_a372_0cc47aeb354arow0_col0,#T_12639d47_ff5f_11ed_a372_0cc47aeb354arow1_col1,#T_12639d47_ff5f_11ed_a372_0cc47aeb354arow2_col2,#T_12639d47_ff5f_11ed_a372_0cc47aeb354arow3_col3,#T_12639d47_ff5f_11ed_a372_0cc47aeb354arow4_col4,#T_12639d47_ff5f_11ed_a372_0cc47aeb354arow5_col5,#T_12639d47_ff5f_11ed_a372_0cc47aeb354arow6_col6,#T_12639d47_ff5f_11ed_a372_0cc47aeb354arow7_col7,#T_12639d47_ff5f_11ed_a372_0cc47aeb354arow8_col8,#T_12639d47_ff5f_11ed_a372_0cc47aeb354arow9_col9,#T_12639d47_ff5f_11ed_a372_0cc47aeb354arow10_col10{\n",
       "            background-color:  #023858;\n",
       "            color:  #f1f1f1;\n",
       "        }#T_12639d47_ff5f_11ed_a372_0cc47aeb354arow0_col1,#T_12639d47_ff5f_11ed_a372_0cc47aeb354arow9_col3{\n",
       "            background-color:  #8bb2d4;\n",
       "            color:  #000000;\n",
       "        }#T_12639d47_ff5f_11ed_a372_0cc47aeb354arow0_col2,#T_12639d47_ff5f_11ed_a372_0cc47aeb354arow6_col10{\n",
       "            background-color:  #adc1dd;\n",
       "            color:  #000000;\n",
       "        }#T_12639d47_ff5f_11ed_a372_0cc47aeb354arow0_col3,#T_12639d47_ff5f_11ed_a372_0cc47aeb354arow6_col0{\n",
       "            background-color:  #bfc9e1;\n",
       "            color:  #000000;\n",
       "        }#T_12639d47_ff5f_11ed_a372_0cc47aeb354arow0_col4,#T_12639d47_ff5f_11ed_a372_0cc47aeb354arow0_col5{\n",
       "            background-color:  #d4d4e8;\n",
       "            color:  #000000;\n",
       "        }#T_12639d47_ff5f_11ed_a372_0cc47aeb354arow0_col6{\n",
       "            background-color:  #cccfe5;\n",
       "            color:  #000000;\n",
       "        }#T_12639d47_ff5f_11ed_a372_0cc47aeb354arow0_col7,#T_12639d47_ff5f_11ed_a372_0cc47aeb354arow7_col10,#T_12639d47_ff5f_11ed_a372_0cc47aeb354arow10_col5{\n",
       "            background-color:  #8fb4d6;\n",
       "            color:  #000000;\n",
       "        }#T_12639d47_ff5f_11ed_a372_0cc47aeb354arow0_col8{\n",
       "            background-color:  #b4c4df;\n",
       "            color:  #000000;\n",
       "        }#T_12639d47_ff5f_11ed_a372_0cc47aeb354arow0_col9,#T_12639d47_ff5f_11ed_a372_0cc47aeb354arow1_col9,#T_12639d47_ff5f_11ed_a372_0cc47aeb354arow2_col10,#T_12639d47_ff5f_11ed_a372_0cc47aeb354arow3_col4,#T_12639d47_ff5f_11ed_a372_0cc47aeb354arow4_col3,#T_12639d47_ff5f_11ed_a372_0cc47aeb354arow5_col6,#T_12639d47_ff5f_11ed_a372_0cc47aeb354arow6_col5,#T_12639d47_ff5f_11ed_a372_0cc47aeb354arow7_col9,#T_12639d47_ff5f_11ed_a372_0cc47aeb354arow8_col10,#T_12639d47_ff5f_11ed_a372_0cc47aeb354arow9_col1,#T_12639d47_ff5f_11ed_a372_0cc47aeb354arow10_col2{\n",
       "            background-color:  #fff7fb;\n",
       "            color:  #000000;\n",
       "        }#T_12639d47_ff5f_11ed_a372_0cc47aeb354arow0_col10,#T_12639d47_ff5f_11ed_a372_0cc47aeb354arow10_col8{\n",
       "            background-color:  #f8f1f8;\n",
       "            color:  #000000;\n",
       "        }#T_12639d47_ff5f_11ed_a372_0cc47aeb354arow1_col0{\n",
       "            background-color:  #3991c1;\n",
       "            color:  #000000;\n",
       "        }#T_12639d47_ff5f_11ed_a372_0cc47aeb354arow1_col2{\n",
       "            background-color:  #71a8ce;\n",
       "            color:  #000000;\n",
       "        }#T_12639d47_ff5f_11ed_a372_0cc47aeb354arow1_col3,#T_12639d47_ff5f_11ed_a372_0cc47aeb354arow1_col4,#T_12639d47_ff5f_11ed_a372_0cc47aeb354arow10_col3{\n",
       "            background-color:  #9cb9d9;\n",
       "            color:  #000000;\n",
       "        }#T_12639d47_ff5f_11ed_a372_0cc47aeb354arow1_col5{\n",
       "            background-color:  #7bacd1;\n",
       "            color:  #000000;\n",
       "        }#T_12639d47_ff5f_11ed_a372_0cc47aeb354arow1_col6,#T_12639d47_ff5f_11ed_a372_0cc47aeb354arow7_col6{\n",
       "            background-color:  #84b0d3;\n",
       "            color:  #000000;\n",
       "        }#T_12639d47_ff5f_11ed_a372_0cc47aeb354arow1_col7,#T_12639d47_ff5f_11ed_a372_0cc47aeb354arow7_col1{\n",
       "            background-color:  #023c5f;\n",
       "            color:  #f1f1f1;\n",
       "        }#T_12639d47_ff5f_11ed_a372_0cc47aeb354arow1_col8,#T_12639d47_ff5f_11ed_a372_0cc47aeb354arow7_col2{\n",
       "            background-color:  #6da6cd;\n",
       "            color:  #000000;\n",
       "        }#T_12639d47_ff5f_11ed_a372_0cc47aeb354arow1_col10{\n",
       "            background-color:  #83afd3;\n",
       "            color:  #000000;\n",
       "        }#T_12639d47_ff5f_11ed_a372_0cc47aeb354arow2_col0{\n",
       "            background-color:  #5a9ec9;\n",
       "            color:  #000000;\n",
       "        }#T_12639d47_ff5f_11ed_a372_0cc47aeb354arow2_col1{\n",
       "            background-color:  #75a9cf;\n",
       "            color:  #000000;\n",
       "        }#T_12639d47_ff5f_11ed_a372_0cc47aeb354arow2_col3{\n",
       "            background-color:  #7eadd1;\n",
       "            color:  #000000;\n",
       "        }#T_12639d47_ff5f_11ed_a372_0cc47aeb354arow2_col4{\n",
       "            background-color:  #549cc7;\n",
       "            color:  #000000;\n",
       "        }#T_12639d47_ff5f_11ed_a372_0cc47aeb354arow2_col5,#T_12639d47_ff5f_11ed_a372_0cc47aeb354arow4_col2{\n",
       "            background-color:  #abbfdc;\n",
       "            color:  #000000;\n",
       "        }#T_12639d47_ff5f_11ed_a372_0cc47aeb354arow2_col6,#T_12639d47_ff5f_11ed_a372_0cc47aeb354arow8_col6,#T_12639d47_ff5f_11ed_a372_0cc47aeb354arow9_col2{\n",
       "            background-color:  #79abd0;\n",
       "            color:  #000000;\n",
       "        }#T_12639d47_ff5f_11ed_a372_0cc47aeb354arow2_col7{\n",
       "            background-color:  #67a4cc;\n",
       "            color:  #000000;\n",
       "        }#T_12639d47_ff5f_11ed_a372_0cc47aeb354arow2_col8,#T_12639d47_ff5f_11ed_a372_0cc47aeb354arow8_col2{\n",
       "            background-color:  #023b5d;\n",
       "            color:  #f1f1f1;\n",
       "        }#T_12639d47_ff5f_11ed_a372_0cc47aeb354arow2_col9,#T_12639d47_ff5f_11ed_a372_0cc47aeb354arow8_col1{\n",
       "            background-color:  #7dacd1;\n",
       "            color:  #000000;\n",
       "        }#T_12639d47_ff5f_11ed_a372_0cc47aeb354arow3_col0{\n",
       "            background-color:  #c2cbe2;\n",
       "            color:  #000000;\n",
       "        }#T_12639d47_ff5f_11ed_a372_0cc47aeb354arow3_col1,#T_12639d47_ff5f_11ed_a372_0cc47aeb354arow4_col1{\n",
       "            background-color:  #f0eaf4;\n",
       "            color:  #000000;\n",
       "        }#T_12639d47_ff5f_11ed_a372_0cc47aeb354arow3_col2{\n",
       "            background-color:  #d5d5e8;\n",
       "            color:  #000000;\n",
       "        }#T_12639d47_ff5f_11ed_a372_0cc47aeb354arow3_col5{\n",
       "            background-color:  #4094c3;\n",
       "            color:  #000000;\n",
       "        }#T_12639d47_ff5f_11ed_a372_0cc47aeb354arow3_col6{\n",
       "            background-color:  #f2ecf5;\n",
       "            color:  #000000;\n",
       "        }#T_12639d47_ff5f_11ed_a372_0cc47aeb354arow3_col7{\n",
       "            background-color:  #fbf3f9;\n",
       "            color:  #000000;\n",
       "        }#T_12639d47_ff5f_11ed_a372_0cc47aeb354arow3_col8{\n",
       "            background-color:  #dddbec;\n",
       "            color:  #000000;\n",
       "        }#T_12639d47_ff5f_11ed_a372_0cc47aeb354arow3_col9{\n",
       "            background-color:  #e2dfee;\n",
       "            color:  #000000;\n",
       "        }#T_12639d47_ff5f_11ed_a372_0cc47aeb354arow3_col10{\n",
       "            background-color:  #ede8f3;\n",
       "            color:  #000000;\n",
       "        }#T_12639d47_ff5f_11ed_a372_0cc47aeb354arow4_col0,#T_12639d47_ff5f_11ed_a372_0cc47aeb354arow5_col10{\n",
       "            background-color:  #d7d6e9;\n",
       "            color:  #000000;\n",
       "        }#T_12639d47_ff5f_11ed_a372_0cc47aeb354arow4_col5{\n",
       "            background-color:  #f7f0f7;\n",
       "            color:  #000000;\n",
       "        }#T_12639d47_ff5f_11ed_a372_0cc47aeb354arow4_col6{\n",
       "            background-color:  #358fc0;\n",
       "            color:  #000000;\n",
       "        }#T_12639d47_ff5f_11ed_a372_0cc47aeb354arow4_col7{\n",
       "            background-color:  #e4e1ef;\n",
       "            color:  #000000;\n",
       "        }#T_12639d47_ff5f_11ed_a372_0cc47aeb354arow4_col8{\n",
       "            background-color:  #a9bfdc;\n",
       "            color:  #000000;\n",
       "        }#T_12639d47_ff5f_11ed_a372_0cc47aeb354arow4_col9{\n",
       "            background-color:  #94b6d7;\n",
       "            color:  #000000;\n",
       "        }#T_12639d47_ff5f_11ed_a372_0cc47aeb354arow4_col10{\n",
       "            background-color:  #e5e1ef;\n",
       "            color:  #000000;\n",
       "        }#T_12639d47_ff5f_11ed_a372_0cc47aeb354arow5_col0{\n",
       "            background-color:  #c9cee4;\n",
       "            color:  #000000;\n",
       "        }#T_12639d47_ff5f_11ed_a372_0cc47aeb354arow5_col1{\n",
       "            background-color:  #c6cce3;\n",
       "            color:  #000000;\n",
       "        }#T_12639d47_ff5f_11ed_a372_0cc47aeb354arow5_col2{\n",
       "            background-color:  #ede7f2;\n",
       "            color:  #000000;\n",
       "        }#T_12639d47_ff5f_11ed_a372_0cc47aeb354arow5_col3{\n",
       "            background-color:  #348ebf;\n",
       "            color:  #000000;\n",
       "        }#T_12639d47_ff5f_11ed_a372_0cc47aeb354arow5_col4{\n",
       "            background-color:  #eee8f3;\n",
       "            color:  #000000;\n",
       "        }#T_12639d47_ff5f_11ed_a372_0cc47aeb354arow5_col7{\n",
       "            background-color:  #d8d7e9;\n",
       "            color:  #000000;\n",
       "        }#T_12639d47_ff5f_11ed_a372_0cc47aeb354arow5_col8{\n",
       "            background-color:  #f6eff7;\n",
       "            color:  #000000;\n",
       "        }#T_12639d47_ff5f_11ed_a372_0cc47aeb354arow5_col9{\n",
       "            background-color:  #dedcec;\n",
       "            color:  #000000;\n",
       "        }#T_12639d47_ff5f_11ed_a372_0cc47aeb354arow6_col1{\n",
       "            background-color:  #d1d2e6;\n",
       "            color:  #000000;\n",
       "        }#T_12639d47_ff5f_11ed_a372_0cc47aeb354arow6_col2{\n",
       "            background-color:  #c1cae2;\n",
       "            color:  #000000;\n",
       "        }#T_12639d47_ff5f_11ed_a372_0cc47aeb354arow6_col3{\n",
       "            background-color:  #e7e3f0;\n",
       "            color:  #000000;\n",
       "        }#T_12639d47_ff5f_11ed_a372_0cc47aeb354arow6_col4{\n",
       "            background-color:  #2a88bc;\n",
       "            color:  #000000;\n",
       "        }#T_12639d47_ff5f_11ed_a372_0cc47aeb354arow6_col7{\n",
       "            background-color:  #c8cde4;\n",
       "            color:  #000000;\n",
       "        }#T_12639d47_ff5f_11ed_a372_0cc47aeb354arow6_col8{\n",
       "            background-color:  #b7c5df;\n",
       "            color:  #000000;\n",
       "        }#T_12639d47_ff5f_11ed_a372_0cc47aeb354arow6_col9,#T_12639d47_ff5f_11ed_a372_0cc47aeb354arow10_col0{\n",
       "            background-color:  #b0c2de;\n",
       "            color:  #000000;\n",
       "        }#T_12639d47_ff5f_11ed_a372_0cc47aeb354arow7_col0{\n",
       "            background-color:  #4295c3;\n",
       "            color:  #000000;\n",
       "        }#T_12639d47_ff5f_11ed_a372_0cc47aeb354arow7_col3{\n",
       "            background-color:  #b8c6e0;\n",
       "            color:  #000000;\n",
       "        }#T_12639d47_ff5f_11ed_a372_0cc47aeb354arow7_col4,#T_12639d47_ff5f_11ed_a372_0cc47aeb354arow7_col5,#T_12639d47_ff5f_11ed_a372_0cc47aeb354arow9_col5{\n",
       "            background-color:  #96b6d7;\n",
       "            color:  #000000;\n",
       "        }#T_12639d47_ff5f_11ed_a372_0cc47aeb354arow7_col8,#T_12639d47_ff5f_11ed_a372_0cc47aeb354arow9_col6,#T_12639d47_ff5f_11ed_a372_0cc47aeb354arow10_col6{\n",
       "            background-color:  #65a3cb;\n",
       "            color:  #000000;\n",
       "        }#T_12639d47_ff5f_11ed_a372_0cc47aeb354arow8_col0,#T_12639d47_ff5f_11ed_a372_0cc47aeb354arow8_col7{\n",
       "            background-color:  #6ba5cd;\n",
       "            color:  #000000;\n",
       "        }#T_12639d47_ff5f_11ed_a372_0cc47aeb354arow8_col3,#T_12639d47_ff5f_11ed_a372_0cc47aeb354arow10_col4{\n",
       "            background-color:  #93b5d6;\n",
       "            color:  #000000;\n",
       "        }#T_12639d47_ff5f_11ed_a372_0cc47aeb354arow8_col4{\n",
       "            background-color:  #5c9fc9;\n",
       "            color:  #000000;\n",
       "        }#T_12639d47_ff5f_11ed_a372_0cc47aeb354arow8_col5{\n",
       "            background-color:  #c5cce3;\n",
       "            color:  #000000;\n",
       "        }#T_12639d47_ff5f_11ed_a372_0cc47aeb354arow8_col9,#T_12639d47_ff5f_11ed_a372_0cc47aeb354arow10_col1{\n",
       "            background-color:  #86b0d3;\n",
       "            color:  #000000;\n",
       "        }#T_12639d47_ff5f_11ed_a372_0cc47aeb354arow9_col0{\n",
       "            background-color:  #b9c6e0;\n",
       "            color:  #000000;\n",
       "        }#T_12639d47_ff5f_11ed_a372_0cc47aeb354arow9_col4{\n",
       "            background-color:  #3d93c2;\n",
       "            color:  #000000;\n",
       "        }#T_12639d47_ff5f_11ed_a372_0cc47aeb354arow9_col7{\n",
       "            background-color:  #f9f2f8;\n",
       "            color:  #000000;\n",
       "        }#T_12639d47_ff5f_11ed_a372_0cc47aeb354arow9_col8{\n",
       "            background-color:  #78abd0;\n",
       "            color:  #000000;\n",
       "        }#T_12639d47_ff5f_11ed_a372_0cc47aeb354arow9_col10{\n",
       "            background-color:  #73a9cf;\n",
       "            color:  #000000;\n",
       "        }#T_12639d47_ff5f_11ed_a372_0cc47aeb354arow10_col7{\n",
       "            background-color:  #89b1d4;\n",
       "            color:  #000000;\n",
       "        }#T_12639d47_ff5f_11ed_a372_0cc47aeb354arow10_col9{\n",
       "            background-color:  #76aad0;\n",
       "            color:  #000000;\n",
       "        }</style><table id=\"T_12639d47_ff5f_11ed_a372_0cc47aeb354a\" ><thead>    <tr>        <th class=\"blank level0\" ></th>        <th class=\"col_heading level0 col0\" >length</th>        <th class=\"col_heading level0 col1\" >degrees_n1</th>        <th class=\"col_heading level0 col2\" >degrees_n2</th>        <th class=\"col_heading level0 col3\" >x_n1</th>        <th class=\"col_heading level0 col4\" >y_n1</th>        <th class=\"col_heading level0 col5\" >x_n2</th>        <th class=\"col_heading level0 col6\" >y_n2</th>        <th class=\"col_heading level0 col7\" >centrality_n1</th>        <th class=\"col_heading level0 col8\" >centrality_n2</th>        <th class=\"col_heading level0 col9\" >clustering_n1</th>        <th class=\"col_heading level0 col10\" >clustering_n2</th>    </tr></thead><tbody>\n",
       "                <tr>\n",
       "                        <th id=\"T_12639d47_ff5f_11ed_a372_0cc47aeb354alevel0_row0\" class=\"row_heading level0 row0\" >length</th>\n",
       "                        <td id=\"T_12639d47_ff5f_11ed_a372_0cc47aeb354arow0_col0\" class=\"data row0 col0\" >1.000000</td>\n",
       "                        <td id=\"T_12639d47_ff5f_11ed_a372_0cc47aeb354arow0_col1\" class=\"data row0 col1\" >0.268384</td>\n",
       "                        <td id=\"T_12639d47_ff5f_11ed_a372_0cc47aeb354arow0_col2\" class=\"data row0 col2\" >0.151738</td>\n",
       "                        <td id=\"T_12639d47_ff5f_11ed_a372_0cc47aeb354arow0_col3\" class=\"data row0 col3\" >0.084722</td>\n",
       "                        <td id=\"T_12639d47_ff5f_11ed_a372_0cc47aeb354arow0_col4\" class=\"data row0 col4\" >-0.006524</td>\n",
       "                        <td id=\"T_12639d47_ff5f_11ed_a372_0cc47aeb354arow0_col5\" class=\"data row0 col5\" >-0.006690</td>\n",
       "                        <td id=\"T_12639d47_ff5f_11ed_a372_0cc47aeb354arow0_col6\" class=\"data row0 col6\" >0.033429</td>\n",
       "                        <td id=\"T_12639d47_ff5f_11ed_a372_0cc47aeb354arow0_col7\" class=\"data row0 col7\" >0.256115</td>\n",
       "                        <td id=\"T_12639d47_ff5f_11ed_a372_0cc47aeb354arow0_col8\" class=\"data row0 col8\" >0.125316</td>\n",
       "                        <td id=\"T_12639d47_ff5f_11ed_a372_0cc47aeb354arow0_col9\" class=\"data row0 col9\" >-0.311586</td>\n",
       "                        <td id=\"T_12639d47_ff5f_11ed_a372_0cc47aeb354arow0_col10\" class=\"data row0 col10\" >-0.246348</td>\n",
       "            </tr>\n",
       "            <tr>\n",
       "                        <th id=\"T_12639d47_ff5f_11ed_a372_0cc47aeb354alevel0_row1\" class=\"row_heading level0 row1\" >degrees_n1</th>\n",
       "                        <td id=\"T_12639d47_ff5f_11ed_a372_0cc47aeb354arow1_col0\" class=\"data row1 col0\" >0.268384</td>\n",
       "                        <td id=\"T_12639d47_ff5f_11ed_a372_0cc47aeb354arow1_col1\" class=\"data row1 col1\" >1.000000</td>\n",
       "                        <td id=\"T_12639d47_ff5f_11ed_a372_0cc47aeb354arow1_col2\" class=\"data row1 col2\" >0.043623</td>\n",
       "                        <td id=\"T_12639d47_ff5f_11ed_a372_0cc47aeb354arow1_col3\" class=\"data row1 col3\" >-0.158522</td>\n",
       "                        <td id=\"T_12639d47_ff5f_11ed_a372_0cc47aeb354arow1_col4\" class=\"data row1 col4\" >-0.159184</td>\n",
       "                        <td id=\"T_12639d47_ff5f_11ed_a372_0cc47aeb354arow1_col5\" class=\"data row1 col5\" >0.002848</td>\n",
       "                        <td id=\"T_12639d47_ff5f_11ed_a372_0cc47aeb354arow1_col6\" class=\"data row1 col6\" >-0.041649</td>\n",
       "                        <td id=\"T_12639d47_ff5f_11ed_a372_0cc47aeb354arow1_col7\" class=\"data row1 col7\" >0.968324</td>\n",
       "                        <td id=\"T_12639d47_ff5f_11ed_a372_0cc47aeb354arow1_col8\" class=\"data row1 col8\" >0.058082</td>\n",
       "                        <td id=\"T_12639d47_ff5f_11ed_a372_0cc47aeb354arow1_col9\" class=\"data row1 col9\" >-0.929204</td>\n",
       "                        <td id=\"T_12639d47_ff5f_11ed_a372_0cc47aeb354arow1_col10\" class=\"data row1 col10\" >-0.034998</td>\n",
       "            </tr>\n",
       "            <tr>\n",
       "                        <th id=\"T_12639d47_ff5f_11ed_a372_0cc47aeb354alevel0_row2\" class=\"row_heading level0 row2\" >degrees_n2</th>\n",
       "                        <td id=\"T_12639d47_ff5f_11ed_a372_0cc47aeb354arow2_col0\" class=\"data row2 col0\" >0.151738</td>\n",
       "                        <td id=\"T_12639d47_ff5f_11ed_a372_0cc47aeb354arow2_col1\" class=\"data row2 col1\" >0.043623</td>\n",
       "                        <td id=\"T_12639d47_ff5f_11ed_a372_0cc47aeb354arow2_col2\" class=\"data row2 col2\" >1.000000</td>\n",
       "                        <td id=\"T_12639d47_ff5f_11ed_a372_0cc47aeb354arow2_col3\" class=\"data row2 col3\" >0.003394</td>\n",
       "                        <td id=\"T_12639d47_ff5f_11ed_a372_0cc47aeb354arow2_col4\" class=\"data row2 col4\" >0.172889</td>\n",
       "                        <td id=\"T_12639d47_ff5f_11ed_a372_0cc47aeb354arow2_col5\" class=\"data row2 col5\" >-0.211172</td>\n",
       "                        <td id=\"T_12639d47_ff5f_11ed_a372_0cc47aeb354arow2_col6\" class=\"data row2 col6\" >0.025246</td>\n",
       "                        <td id=\"T_12639d47_ff5f_11ed_a372_0cc47aeb354arow2_col7\" class=\"data row2 col7\" >0.096007</td>\n",
       "                        <td id=\"T_12639d47_ff5f_11ed_a372_0cc47aeb354arow2_col8\" class=\"data row2 col8\" >0.973098</td>\n",
       "                        <td id=\"T_12639d47_ff5f_11ed_a372_0cc47aeb354arow2_col9\" class=\"data row2 col9\" >0.006696</td>\n",
       "                        <td id=\"T_12639d47_ff5f_11ed_a372_0cc47aeb354arow2_col10\" class=\"data row2 col10\" >-0.899568</td>\n",
       "            </tr>\n",
       "            <tr>\n",
       "                        <th id=\"T_12639d47_ff5f_11ed_a372_0cc47aeb354alevel0_row3\" class=\"row_heading level0 row3\" >x_n1</th>\n",
       "                        <td id=\"T_12639d47_ff5f_11ed_a372_0cc47aeb354arow3_col0\" class=\"data row3 col0\" >0.084722</td>\n",
       "                        <td id=\"T_12639d47_ff5f_11ed_a372_0cc47aeb354arow3_col1\" class=\"data row3 col1\" >-0.158522</td>\n",
       "                        <td id=\"T_12639d47_ff5f_11ed_a372_0cc47aeb354arow3_col2\" class=\"data row3 col2\" >0.003394</td>\n",
       "                        <td id=\"T_12639d47_ff5f_11ed_a372_0cc47aeb354arow3_col3\" class=\"data row3 col3\" >1.000000</td>\n",
       "                        <td id=\"T_12639d47_ff5f_11ed_a372_0cc47aeb354arow3_col4\" class=\"data row3 col4\" >-0.294493</td>\n",
       "                        <td id=\"T_12639d47_ff5f_11ed_a372_0cc47aeb354arow3_col5\" class=\"data row3 col5\" >0.487253</td>\n",
       "                        <td id=\"T_12639d47_ff5f_11ed_a372_0cc47aeb354arow3_col6\" class=\"data row3 col6\" >-0.181675</td>\n",
       "                        <td id=\"T_12639d47_ff5f_11ed_a372_0cc47aeb354arow3_col7\" class=\"data row3 col7\" >-0.257197</td>\n",
       "                        <td id=\"T_12639d47_ff5f_11ed_a372_0cc47aeb354arow3_col8\" class=\"data row3 col8\" >-0.043235</td>\n",
       "                        <td id=\"T_12639d47_ff5f_11ed_a372_0cc47aeb354arow3_col9\" class=\"data row3 col9\" >-0.072529</td>\n",
       "                        <td id=\"T_12639d47_ff5f_11ed_a372_0cc47aeb354arow3_col10\" class=\"data row3 col10\" >-0.139475</td>\n",
       "            </tr>\n",
       "            <tr>\n",
       "                        <th id=\"T_12639d47_ff5f_11ed_a372_0cc47aeb354alevel0_row4\" class=\"row_heading level0 row4\" >y_n1</th>\n",
       "                        <td id=\"T_12639d47_ff5f_11ed_a372_0cc47aeb354arow4_col0\" class=\"data row4 col0\" >-0.006524</td>\n",
       "                        <td id=\"T_12639d47_ff5f_11ed_a372_0cc47aeb354arow4_col1\" class=\"data row4 col1\" >-0.159184</td>\n",
       "                        <td id=\"T_12639d47_ff5f_11ed_a372_0cc47aeb354arow4_col2\" class=\"data row4 col2\" >0.172889</td>\n",
       "                        <td id=\"T_12639d47_ff5f_11ed_a372_0cc47aeb354arow4_col3\" class=\"data row4 col3\" >-0.294493</td>\n",
       "                        <td id=\"T_12639d47_ff5f_11ed_a372_0cc47aeb354arow4_col4\" class=\"data row4 col4\" >1.000000</td>\n",
       "                        <td id=\"T_12639d47_ff5f_11ed_a372_0cc47aeb354arow4_col5\" class=\"data row4 col5\" >-0.226717</td>\n",
       "                        <td id=\"T_12639d47_ff5f_11ed_a372_0cc47aeb354arow4_col6\" class=\"data row4 col6\" >0.519351</td>\n",
       "                        <td id=\"T_12639d47_ff5f_11ed_a372_0cc47aeb354arow4_col7\" class=\"data row4 col7\" >-0.083452</td>\n",
       "                        <td id=\"T_12639d47_ff5f_11ed_a372_0cc47aeb354arow4_col8\" class=\"data row4 col8\" >0.180177</td>\n",
       "                        <td id=\"T_12639d47_ff5f_11ed_a372_0cc47aeb354arow4_col9\" class=\"data row4 col9\" >0.251179</td>\n",
       "                        <td id=\"T_12639d47_ff5f_11ed_a372_0cc47aeb354arow4_col10\" class=\"data row4 col10\" >-0.090883</td>\n",
       "            </tr>\n",
       "            <tr>\n",
       "                        <th id=\"T_12639d47_ff5f_11ed_a372_0cc47aeb354alevel0_row5\" class=\"row_heading level0 row5\" >x_n2</th>\n",
       "                        <td id=\"T_12639d47_ff5f_11ed_a372_0cc47aeb354arow5_col0\" class=\"data row5 col0\" >-0.006690</td>\n",
       "                        <td id=\"T_12639d47_ff5f_11ed_a372_0cc47aeb354arow5_col1\" class=\"data row5 col1\" >0.002848</td>\n",
       "                        <td id=\"T_12639d47_ff5f_11ed_a372_0cc47aeb354arow5_col2\" class=\"data row5 col2\" >-0.211172</td>\n",
       "                        <td id=\"T_12639d47_ff5f_11ed_a372_0cc47aeb354arow5_col3\" class=\"data row5 col3\" >0.487253</td>\n",
       "                        <td id=\"T_12639d47_ff5f_11ed_a372_0cc47aeb354arow5_col4\" class=\"data row5 col4\" >-0.226717</td>\n",
       "                        <td id=\"T_12639d47_ff5f_11ed_a372_0cc47aeb354arow5_col5\" class=\"data row5 col5\" >1.000000</td>\n",
       "                        <td id=\"T_12639d47_ff5f_11ed_a372_0cc47aeb354arow5_col6\" class=\"data row5 col6\" >-0.383525</td>\n",
       "                        <td id=\"T_12639d47_ff5f_11ed_a372_0cc47aeb354arow5_col7\" class=\"data row5 col7\" >-0.081503</td>\n",
       "                        <td id=\"T_12639d47_ff5f_11ed_a372_0cc47aeb354arow5_col8\" class=\"data row5 col8\" >-0.297082</td>\n",
       "                        <td id=\"T_12639d47_ff5f_11ed_a372_0cc47aeb354arow5_col9\" class=\"data row5 col9\" >-0.123339</td>\n",
       "                        <td id=\"T_12639d47_ff5f_11ed_a372_0cc47aeb354arow5_col10\" class=\"data row5 col10\" >-0.080059</td>\n",
       "            </tr>\n",
       "            <tr>\n",
       "                        <th id=\"T_12639d47_ff5f_11ed_a372_0cc47aeb354alevel0_row6\" class=\"row_heading level0 row6\" >y_n2</th>\n",
       "                        <td id=\"T_12639d47_ff5f_11ed_a372_0cc47aeb354arow6_col0\" class=\"data row6 col0\" >0.033429</td>\n",
       "                        <td id=\"T_12639d47_ff5f_11ed_a372_0cc47aeb354arow6_col1\" class=\"data row6 col1\" >-0.041649</td>\n",
       "                        <td id=\"T_12639d47_ff5f_11ed_a372_0cc47aeb354arow6_col2\" class=\"data row6 col2\" >0.025246</td>\n",
       "                        <td id=\"T_12639d47_ff5f_11ed_a372_0cc47aeb354arow6_col3\" class=\"data row6 col3\" >-0.181675</td>\n",
       "                        <td id=\"T_12639d47_ff5f_11ed_a372_0cc47aeb354arow6_col4\" class=\"data row6 col4\" >0.519351</td>\n",
       "                        <td id=\"T_12639d47_ff5f_11ed_a372_0cc47aeb354arow6_col5\" class=\"data row6 col5\" >-0.383525</td>\n",
       "                        <td id=\"T_12639d47_ff5f_11ed_a372_0cc47aeb354arow6_col6\" class=\"data row6 col6\" >1.000000</td>\n",
       "                        <td id=\"T_12639d47_ff5f_11ed_a372_0cc47aeb354arow6_col7\" class=\"data row6 col7\" >-0.003464</td>\n",
       "                        <td id=\"T_12639d47_ff5f_11ed_a372_0cc47aeb354arow6_col8\" class=\"data row6 col8\" >0.068735</td>\n",
       "                        <td id=\"T_12639d47_ff5f_11ed_a372_0cc47aeb354arow6_col9\" class=\"data row6 col9\" >0.094971</td>\n",
       "                        <td id=\"T_12639d47_ff5f_11ed_a372_0cc47aeb354arow6_col10\" class=\"data row6 col10\" >0.105507</td>\n",
       "            </tr>\n",
       "            <tr>\n",
       "                        <th id=\"T_12639d47_ff5f_11ed_a372_0cc47aeb354alevel0_row7\" class=\"row_heading level0 row7\" >centrality_n1</th>\n",
       "                        <td id=\"T_12639d47_ff5f_11ed_a372_0cc47aeb354arow7_col0\" class=\"data row7 col0\" >0.256115</td>\n",
       "                        <td id=\"T_12639d47_ff5f_11ed_a372_0cc47aeb354arow7_col1\" class=\"data row7 col1\" >0.968324</td>\n",
       "                        <td id=\"T_12639d47_ff5f_11ed_a372_0cc47aeb354arow7_col2\" class=\"data row7 col2\" >0.096007</td>\n",
       "                        <td id=\"T_12639d47_ff5f_11ed_a372_0cc47aeb354arow7_col3\" class=\"data row7 col3\" >-0.257197</td>\n",
       "                        <td id=\"T_12639d47_ff5f_11ed_a372_0cc47aeb354arow7_col4\" class=\"data row7 col4\" >-0.083452</td>\n",
       "                        <td id=\"T_12639d47_ff5f_11ed_a372_0cc47aeb354arow7_col5\" class=\"data row7 col5\" >-0.081503</td>\n",
       "                        <td id=\"T_12639d47_ff5f_11ed_a372_0cc47aeb354arow7_col6\" class=\"data row7 col6\" >-0.003464</td>\n",
       "                        <td id=\"T_12639d47_ff5f_11ed_a372_0cc47aeb354arow7_col7\" class=\"data row7 col7\" >1.000000</td>\n",
       "                        <td id=\"T_12639d47_ff5f_11ed_a372_0cc47aeb354arow7_col8\" class=\"data row7 col8\" >0.126640</td>\n",
       "                        <td id=\"T_12639d47_ff5f_11ed_a372_0cc47aeb354arow7_col9\" class=\"data row7 col9\" >-0.852970</td>\n",
       "                        <td id=\"T_12639d47_ff5f_11ed_a372_0cc47aeb354arow7_col10\" class=\"data row7 col10\" >-0.051968</td>\n",
       "            </tr>\n",
       "            <tr>\n",
       "                        <th id=\"T_12639d47_ff5f_11ed_a372_0cc47aeb354alevel0_row8\" class=\"row_heading level0 row8\" >centrality_n2</th>\n",
       "                        <td id=\"T_12639d47_ff5f_11ed_a372_0cc47aeb354arow8_col0\" class=\"data row8 col0\" >0.125316</td>\n",
       "                        <td id=\"T_12639d47_ff5f_11ed_a372_0cc47aeb354arow8_col1\" class=\"data row8 col1\" >0.058082</td>\n",
       "                        <td id=\"T_12639d47_ff5f_11ed_a372_0cc47aeb354arow8_col2\" class=\"data row8 col2\" >0.973098</td>\n",
       "                        <td id=\"T_12639d47_ff5f_11ed_a372_0cc47aeb354arow8_col3\" class=\"data row8 col3\" >-0.043235</td>\n",
       "                        <td id=\"T_12639d47_ff5f_11ed_a372_0cc47aeb354arow8_col4\" class=\"data row8 col4\" >0.180177</td>\n",
       "                        <td id=\"T_12639d47_ff5f_11ed_a372_0cc47aeb354arow8_col5\" class=\"data row8 col5\" >-0.297082</td>\n",
       "                        <td id=\"T_12639d47_ff5f_11ed_a372_0cc47aeb354arow8_col6\" class=\"data row8 col6\" >0.068735</td>\n",
       "                        <td id=\"T_12639d47_ff5f_11ed_a372_0cc47aeb354arow8_col7\" class=\"data row8 col7\" >0.126640</td>\n",
       "                        <td id=\"T_12639d47_ff5f_11ed_a372_0cc47aeb354arow8_col8\" class=\"data row8 col8\" >1.000000</td>\n",
       "                        <td id=\"T_12639d47_ff5f_11ed_a372_0cc47aeb354arow8_col9\" class=\"data row8 col9\" >0.013005</td>\n",
       "                        <td id=\"T_12639d47_ff5f_11ed_a372_0cc47aeb354arow8_col10\" class=\"data row8 col10\" >-0.810592</td>\n",
       "            </tr>\n",
       "            <tr>\n",
       "                        <th id=\"T_12639d47_ff5f_11ed_a372_0cc47aeb354alevel0_row9\" class=\"row_heading level0 row9\" >clustering_n1</th>\n",
       "                        <td id=\"T_12639d47_ff5f_11ed_a372_0cc47aeb354arow9_col0\" class=\"data row9 col0\" >-0.311586</td>\n",
       "                        <td id=\"T_12639d47_ff5f_11ed_a372_0cc47aeb354arow9_col1\" class=\"data row9 col1\" >-0.929204</td>\n",
       "                        <td id=\"T_12639d47_ff5f_11ed_a372_0cc47aeb354arow9_col2\" class=\"data row9 col2\" >0.006696</td>\n",
       "                        <td id=\"T_12639d47_ff5f_11ed_a372_0cc47aeb354arow9_col3\" class=\"data row9 col3\" >-0.072529</td>\n",
       "                        <td id=\"T_12639d47_ff5f_11ed_a372_0cc47aeb354arow9_col4\" class=\"data row9 col4\" >0.251179</td>\n",
       "                        <td id=\"T_12639d47_ff5f_11ed_a372_0cc47aeb354arow9_col5\" class=\"data row9 col5\" >-0.123339</td>\n",
       "                        <td id=\"T_12639d47_ff5f_11ed_a372_0cc47aeb354arow9_col6\" class=\"data row9 col6\" >0.094971</td>\n",
       "                        <td id=\"T_12639d47_ff5f_11ed_a372_0cc47aeb354arow9_col7\" class=\"data row9 col7\" >-0.852970</td>\n",
       "                        <td id=\"T_12639d47_ff5f_11ed_a372_0cc47aeb354arow9_col8\" class=\"data row9 col8\" >0.013005</td>\n",
       "                        <td id=\"T_12639d47_ff5f_11ed_a372_0cc47aeb354arow9_col9\" class=\"data row9 col9\" >1.000000</td>\n",
       "                        <td id=\"T_12639d47_ff5f_11ed_a372_0cc47aeb354arow9_col10\" class=\"data row9 col10\" >0.037197</td>\n",
       "            </tr>\n",
       "            <tr>\n",
       "                        <th id=\"T_12639d47_ff5f_11ed_a372_0cc47aeb354alevel0_row10\" class=\"row_heading level0 row10\" >clustering_n2</th>\n",
       "                        <td id=\"T_12639d47_ff5f_11ed_a372_0cc47aeb354arow10_col0\" class=\"data row10 col0\" >-0.246348</td>\n",
       "                        <td id=\"T_12639d47_ff5f_11ed_a372_0cc47aeb354arow10_col1\" class=\"data row10 col1\" >-0.034998</td>\n",
       "                        <td id=\"T_12639d47_ff5f_11ed_a372_0cc47aeb354arow10_col2\" class=\"data row10 col2\" >-0.899568</td>\n",
       "                        <td id=\"T_12639d47_ff5f_11ed_a372_0cc47aeb354arow10_col3\" class=\"data row10 col3\" >-0.139475</td>\n",
       "                        <td id=\"T_12639d47_ff5f_11ed_a372_0cc47aeb354arow10_col4\" class=\"data row10 col4\" >-0.090883</td>\n",
       "                        <td id=\"T_12639d47_ff5f_11ed_a372_0cc47aeb354arow10_col5\" class=\"data row10 col5\" >-0.080059</td>\n",
       "                        <td id=\"T_12639d47_ff5f_11ed_a372_0cc47aeb354arow10_col6\" class=\"data row10 col6\" >0.105507</td>\n",
       "                        <td id=\"T_12639d47_ff5f_11ed_a372_0cc47aeb354arow10_col7\" class=\"data row10 col7\" >-0.051968</td>\n",
       "                        <td id=\"T_12639d47_ff5f_11ed_a372_0cc47aeb354arow10_col8\" class=\"data row10 col8\" >-0.810592</td>\n",
       "                        <td id=\"T_12639d47_ff5f_11ed_a372_0cc47aeb354arow10_col9\" class=\"data row10 col9\" >0.037197</td>\n",
       "                        <td id=\"T_12639d47_ff5f_11ed_a372_0cc47aeb354arow10_col10\" class=\"data row10 col10\" >1.000000</td>\n",
       "            </tr>\n",
       "    </tbody></table>"
      ],
      "text/plain": [
       "<pandas.io.formats.style.Styler at 0x7f83e8876f40>"
      ]
     },
     "execution_count": 11,
     "metadata": {},
     "output_type": "execute_result"
    }
   ],
   "source": [
    "columns = [\n",
    "    \"length\",\n",
    "    \"degrees_n1\",\n",
    "    \"degrees_n2\",\n",
    "    \"x_n1\",\n",
    "    \"y_n1\",\n",
    "    \"x_n2\",\n",
    "    \"y_n2\",\n",
    "    \"centrality_n1\",\n",
    "    \"centrality_n2\",\n",
    "    \"clustering_n1\",\n",
    "    \"clustering_n2\",\n",
    "]\n",
    "X_train_df = pd.DataFrame(X_train, columns=columns)\n",
    "X_train_df.corr().style.background_gradient(axis=1)"
   ]
  },
  {
   "cell_type": "markdown",
   "id": "4795575d",
   "metadata": {},
   "source": [
    "### Feature engineering 5: Add SVD node embeddings\n",
    "***\n",
    "Finally, based on the experience from project 2, we guess that the graph-level features can be helpful for prediction. Therefore, we compute the graph-level node embeddings by utilizing the adjacency matrix of the road network to represent nodes. Since the dimension is too high, we reduce it by SVD. To generate edge features, we apply the method utilized by Sentence Transformer to capture the relation between the two nodes of an edge so as to represent an edge. As can be seen from the result, the model does have a significant performance gain."
   ]
  },
  {
   "cell_type": "code",
   "execution_count": 12,
   "id": "c071561f",
   "metadata": {
    "scrolled": true
   },
   "outputs": [
    {
     "data": {
      "text/plain": [
       "(2651, 32)"
      ]
     },
     "execution_count": 12,
     "metadata": {},
     "output_type": "execute_result"
    }
   ],
   "source": [
    "# cannot use edge weight\n",
    "adjacency_matrix = nx.adjacency_matrix(gcc, weight=None)\n",
    "node_embeddings = TruncatedSVD(n_components=32).fit_transform(adjacency_matrix)\n",
    "node_embeddings.shape"
   ]
  },
  {
   "cell_type": "code",
   "execution_count": 13,
   "id": "3dcbeb62",
   "metadata": {
    "scrolled": true
   },
   "outputs": [
    {
     "data": {
      "application/json": {
       "ascii": false,
       "bar_format": null,
       "colour": null,
       "elapsed": 0.02731609344482422,
       "initial": 0,
       "n": 0,
       "ncols": null,
       "nrows": 23,
       "postfix": null,
       "prefix": "",
       "rate": null,
       "total": 489158,
       "unit": "it",
       "unit_divisor": 1000,
       "unit_scale": false
      },
      "application/vnd.jupyter.widget-view+json": {
       "model_id": "c2818a40ac6b480c98696391e37dccca",
       "version_major": 2,
       "version_minor": 0
      },
      "text/plain": [
       "  0%|          | 0/489158 [00:00<?, ?it/s]"
      ]
     },
     "metadata": {},
     "output_type": "display_data"
    },
    {
     "data": {
      "application/json": {
       "ascii": false,
       "bar_format": null,
       "colour": null,
       "elapsed": 0.03113579750061035,
       "initial": 0,
       "n": 0,
       "ncols": null,
       "nrows": 23,
       "postfix": null,
       "prefix": "",
       "rate": null,
       "total": 489158,
       "unit": "it",
       "unit_divisor": 1000,
       "unit_scale": false
      },
      "application/vnd.jupyter.widget-view+json": {
       "model_id": "08ecff56466b412597e022e15a64057c",
       "version_major": 2,
       "version_minor": 0
      },
      "text/plain": [
       "  0%|          | 0/489158 [00:00<?, ?it/s]"
      ]
     },
     "metadata": {},
     "output_type": "display_data"
    },
    {
     "name": "stdout",
     "output_type": "stream",
     "text": [
      "Start fitting\n",
      "X_train shape: (489158, 139); X_test shape: (489158, 139)\n",
      "Train rmse: 254.304\n",
      "Test rmse: 257.426\n"
     ]
    }
   ],
   "source": [
    "def get_edge_embeddings(indices):\n",
    "    results = []\n",
    "    for i in tqdm(indices):\n",
    "        e1 = node_embeddings[edges[i][0]]\n",
    "        e2 = node_embeddings[edges[i][1]]\n",
    "        results.append(np.concatenate([e1, e2, e1 * e2, abs(e1 - e2)]))\n",
    "    return np.array(results)\n",
    "\n",
    "\n",
    "edge_embeddings_train = get_edge_embeddings(train_indices)\n",
    "edge_embeddings_test = get_edge_embeddings(test_indices)\n",
    "\n",
    "X_train_merge = np.concatenate([edge_embeddings_train, X_train], axis=1)\n",
    "X_test_merge = np.concatenate([edge_embeddings_test, X_test], axis=1)\n",
    "\n",
    "fit_and_evaluate(X_train_merge, y_train, X_test_merge, y_test)"
   ]
  },
  {
   "cell_type": "markdown",
   "id": "dda5718a",
   "metadata": {},
   "source": [
    "### Conclusions\n",
    "***\n",
    "In this mini project, we aim to predict the travelling time by generating several road (edge) features. With the length of the road as the only feature, a tree-based regressor can reduce 60% of RMSE from a random predictor. Furthermore, there is another 29% improvement after our feature engineering.\n",
    "\n",
    "### Future work\n",
    "***\n",
    "By the experience from project 2, we believe that other graph-level node representations like Node2Vec or even GCN models can be more powerful. However, it would be very time-consuming to run those models on a super large network containing million of edges. Due to the limited time, we leave them to be our future work."
   ]
  }
 ],
 "metadata": {
  "kernelspec": {
   "display_name": "Python 3 (ipykernel)",
   "language": "python",
   "name": "python3"
  },
  "language_info": {
   "codemirror_mode": {
    "name": "ipython",
    "version": 3
   },
   "file_extension": ".py",
   "mimetype": "text/x-python",
   "name": "python",
   "nbconvert_exporter": "python",
   "pygments_lexer": "ipython3",
   "version": "3.9.0"
  }
 },
 "nbformat": 4,
 "nbformat_minor": 5
}
