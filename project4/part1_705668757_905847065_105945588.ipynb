{
 "cells": [
  {
   "cell_type": "markdown",
   "id": "4080d6d8",
   "metadata": {},
   "source": [
    "## 1. Stock Market\n",
    "***\n",
    "In this part of the project, we study data from stock market. The data is available on this [Dropbox Link](https://www.dropbox.com/s/83l60htndqpn3fv/finance_data.zip?dl=0). The goal of this part is to study correlation structures among fluctuation patterns of stock prices using tools from graph theory. The intuition is that investors will have similar strategies of investment for stocks that are effected by the same economic factors. For example, the stocks belonging to the transportation sector may have different absolute prices, but if for example fuel prices change or are expected to change significantly in the near future, then you would expect the investors to buy or sell all stocks similarly and maximize their returns. Towards that goal, we construct different graphs based on similarities among the time series of returns on different stocks at different time scales (day vs a week). Then, we study properties of such graphs. The data is obtained from Yahoo Finance website for 3 years. You’re provided with a number of csv tables, each containing several fields: Date, Open, High, Low, Close, Volume, and Adj Close price. The files are named according to Ticker Symbol of each stock. You may find the market sector for each company in Name sector.csv. We recommend doing this part of the project (Q1 - Q8) in R."
   ]
  },
  {
   "cell_type": "markdown",
   "id": "3275a2bd",
   "metadata": {},
   "source": [
    "### 1. Return correlation\n",
    "***\n",
    "In this part of the project, we will compute the correlation among log-normalized stock-return time series data. Before giving the expression for correlation, we introduce the following notation:\n",
    "+ $p_i(t)$ is the closing price of stock i at the t-th day\n",
    "+ $q_i(t)$ is the return of stock i over a period of $[t − 1, t]$\n",
    "$$\n",
    "q_i(t) = \\frac{p_i(t) − p_i(t − 1)}{p_i(t − 1)}\n",
    "$$\n",
    "+ $r_i(t)$ is the log-normalized return stock i over a period of $[t − 1, t]$\n",
    "$$\n",
    "r_i(t) = \\log(1 + q_i(t))\n",
    "$$\n",
    "Then with the above notation, we define the correlation between the log-normalized stock-return time series data of stocks i and j as\n",
    "$$\n",
    "ρ_{ij} = \\frac{⟨r_i(t)r_j(t)⟩ − ⟨r_i(t)⟩⟨r_j(t)⟩}{\\sqrt{(⟨r_i(t)^2⟩ − ⟨r_i(t)⟩^2)(⟨r_j(t)^2⟩ − ⟨r_j(t)⟩^2)}}\n",
    "$$\n",
    "where ⟨·⟩ is a temporal average on the investigated time regime (for our data set it is over 3 years)."
   ]
  },
  {
   "cell_type": "markdown",
   "id": "b96e1739",
   "metadata": {},
   "source": [
    "#### QUESTION 1: What are upper and lower bounds on $ρ_{ij}$? Provide a justification for using lognormalized return $(r_i(t))$ instead of regular return $(q_i(t))$.\n",
    "\n",
    "> Ans:"
   ]
  },
  {
   "cell_type": "markdown",
   "id": "e9a21e85",
   "metadata": {},
   "source": [
    "### 2. Constructing correlation graphs\n",
    "***\n",
    "In this part, we construct a correlation graph using the correlation coefficient computed in the previous section. The correlation graph has the stocks as the nodes and the edge weights are given by the following expression\n",
    "$$\n",
    "w_{ij} = \\sqrt{2(1 − ρ_{ij})}\n",
    "$$\n",
    "Compute the edge weights using the above expression and construct the correlation graph.\n",
    "\n",
    "#### QUESTION 2: Plot a histogram showing the un-normalized distribution of edge weights.\n",
    "\n",
    "> Ans:"
   ]
  },
  {
   "cell_type": "code",
   "execution_count": null,
   "id": "4c3eef20",
   "metadata": {},
   "outputs": [],
   "source": []
  },
  {
   "cell_type": "markdown",
   "id": "4e867cb7",
   "metadata": {},
   "source": [
    "### 3. Minimum spanning tree (MST)\n",
    "***\n",
    "In this part of the project, we will extract the MST of the correlation graph and interpret it.\n",
    "\n",
    "#### QUESTION 3: Extract the MST of the correlation graph. Each stock can be categorized into a sector, which can be found in Name sector.csv file. Plot the MST and color-code the nodes based on sectors. Do you see any pattern in the MST? The structures that you find in MST are called Vine clusters. Provide a detailed explanation about the pattern you observe.\n",
    "\n",
    "> Ans:"
   ]
  },
  {
   "cell_type": "code",
   "execution_count": null,
   "id": "3df98dac",
   "metadata": {},
   "outputs": [],
   "source": []
  },
  {
   "cell_type": "markdown",
   "id": "43b3bf42",
   "metadata": {},
   "source": [
    "#### QUESTION 4: Run a community detection algorithm (for example walktrap) on the MST obtained above. Plot the communities formed. Compute the homogeneity and completeness of the clustering. (you can use the ’clevr’ library in r to compute homogeneity and completeness).\n",
    "\n",
    "> Ans:"
   ]
  },
  {
   "cell_type": "code",
   "execution_count": null,
   "id": "7fc7bdce",
   "metadata": {},
   "outputs": [],
   "source": []
  },
  {
   "cell_type": "markdown",
   "id": "a1ce6174",
   "metadata": {},
   "source": [
    "### 4. Sector clustering in MST’s\n",
    "***\n",
    "In this part, we want to predict the market sector of an unknown stock. We will explore two methods for performing the task. In order to evaluate the performance of the methods we define the following metric\n",
    "$$\n",
    "α = \\frac{1}{|V|}\\sum_{v_i∈V}P(v_i ∈ S_i)\n",
    "$$\n",
    "where $S_i$ is the sector of node i. Define\n",
    "$$\n",
    "P(v_i ∈ S_i) = \\frac{|Q_i|}{|N_i|}\n",
    "$$\n",
    "where $Q_i$ is the set of neighbors of node i that belong to the same sector as node i and $N_i$ is\n",
    "the set of neighbors of node i. Compare α with the case where\n",
    "$$\n",
    "P(v_i ∈ S_i) = \\frac{|S_i|}{|V|}\n",
    "$$\n",
    "\n",
    "#### QUESTION 5: Report the value of α for the above two cases and provide an interpretation for the difference.\n",
    "\n",
    "> Ans:"
   ]
  },
  {
   "cell_type": "code",
   "execution_count": null,
   "id": "48ddccc7",
   "metadata": {},
   "outputs": [],
   "source": []
  },
  {
   "cell_type": "markdown",
   "id": "a1bea9c7",
   "metadata": {},
   "source": [
    "### 5. Correlation graphs for weekly data\n",
    "***\n",
    "In the previous parts, we constructed the correlation graph based on daily data. In this part of the project, we will construct a correlation graph based on WEEKLY data. To create the graph, sample the stock data weekly on Mondays and then calculate $ρ_{ij}$ using the sampled data. If there is a holiday on a Monday, we ignore that week. Create the correlation graph based on weekly data.\n",
    "\n",
    "#### QUESTION 6: Repeat questions 2,3,4,5 on the WEEKLY data."
   ]
  },
  {
   "cell_type": "code",
   "execution_count": null,
   "id": "551d273f",
   "metadata": {},
   "outputs": [],
   "source": []
  },
  {
   "cell_type": "markdown",
   "id": "ef3eec8b",
   "metadata": {},
   "source": [
    "### 6. Correlation graphs for MONTHLY data\n",
    "***\n",
    "In this part of the project, we will construct a correlation graph based on MONTHLY data. To create the graph, sample the stock data Monthly on 15th and then calculate $ρ_{ij}$ using the sampled data. If there is a holiday on the 15th, we ignore that month. Create the correlation graph based on MONTHLY data.\n",
    "\n",
    "#### QUESTION 7: Repeat questions 2,3,4,5 on the MONTHLY data."
   ]
  },
  {
   "cell_type": "code",
   "execution_count": null,
   "id": "2c8b8522",
   "metadata": {},
   "outputs": [],
   "source": []
  },
  {
   "cell_type": "markdown",
   "id": "342a9e84",
   "metadata": {},
   "source": [
    "#### QUESTION 8: Compare and analyze all the results of daily data vs weekly data vs monthly data. What trends do you find? What changes? What remains similar? Give reason for your observations. Which granularity gives the best results when predicting the sector of an unknown stock and why?\n",
    "\n",
    "> Ans:"
   ]
  }
 ],
 "metadata": {
  "kernelspec": {
   "display_name": "Python 3 (ipykernel)",
   "language": "python",
   "name": "python3"
  },
  "language_info": {
   "codemirror_mode": {
    "name": "ipython",
    "version": 3
   },
   "file_extension": ".py",
   "mimetype": "text/x-python",
   "name": "python",
   "nbconvert_exporter": "python",
   "pygments_lexer": "ipython3",
   "version": "3.9.0"
  }
 },
 "nbformat": 4,
 "nbformat_minor": 5
}
